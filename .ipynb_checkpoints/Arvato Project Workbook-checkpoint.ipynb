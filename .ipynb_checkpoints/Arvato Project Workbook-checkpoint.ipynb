{
 "cells": [
  {
   "cell_type": "markdown",
   "metadata": {},
   "source": [
    "# Capstone Project: Create a Customer Segmentation Report for Arvato Financial Services\n",
    "\n",
    "In this project, you will analyze demographics data for customers of a mail-order sales company in Germany, comparing it against demographics information for the general population. You'll use unsupervised learning techniques to perform customer segmentation, identifying the parts of the population that best describe the core customer base of the company. Then, you'll apply what you've learned on a third dataset with demographics information for targets of a marketing campaign for the company, and use a model to predict which individuals are most likely to convert into becoming customers for the company. The data that you will use has been provided by our partners at Bertelsmann Arvato Analytics, and represents a real-life data science task.\n",
    "\n",
    "If you completed the first term of this program, you will be familiar with the first part of this project, from the unsupervised learning project. The versions of those two datasets used in this project will include many more features and has not been pre-cleaned. You are also free to choose whatever approach you'd like to analyzing the data rather than follow pre-determined steps. In your work on this project, make sure that you carefully document your steps and decisions, since your main deliverable for this project will be a blog post reporting your findings."
   ]
  },
  {
   "cell_type": "code",
   "execution_count": 1,
   "metadata": {},
   "outputs": [],
   "source": [
    "# import libraries here; add more as necessary\n",
    "import numpy as np\n",
    "import pandas as pd\n",
    "import matplotlib.pyplot as plt\n",
    "import seaborn as sns\n",
    "import pickle\n",
    "\n",
    "# magic word for producing visualizations in notebook\n",
    "%matplotlib inline"
   ]
  },
  {
   "cell_type": "markdown",
   "metadata": {},
   "source": [
    "## Part 0: Get to Know the Data\n",
    "\n",
    "There are four data files associated with this project:\n",
    "\n",
    "- `Udacity_AZDIAS_052018.csv`: Demographics data for the general population of Germany; 891 211 persons (rows) x 366 features (columns).\n",
    "- `Udacity_CUSTOMERS_052018.csv`: Demographics data for customers of a mail-order company; 191 652 persons (rows) x 369 features (columns).\n",
    "- `Udacity_MAILOUT_052018_TRAIN.csv`: Demographics data for individuals who were targets of a marketing campaign; 42 982 persons (rows) x 367 (columns).\n",
    "- `Udacity_MAILOUT_052018_TEST.csv`: Demographics data for individuals who were targets of a marketing campaign; 42 833 persons (rows) x 366 (columns).\n",
    "\n",
    "Each row of the demographics files represents a single person, but also includes information outside of individuals, including information about their household, building, and neighborhood. Use the information from the first two files to figure out how customers (\"CUSTOMERS\") are similar to or differ from the general population at large (\"AZDIAS\"), then use your analysis to make predictions on the other two files (\"MAILOUT\"), predicting which recipients are most likely to become a customer for the mail-order company.\n",
    "\n",
    "The \"CUSTOMERS\" file contains three extra columns ('CUSTOMER_GROUP', 'ONLINE_PURCHASE', and 'PRODUCT_GROUP'), which provide broad information about the customers depicted in the file. The original \"MAILOUT\" file included one additional column, \"RESPONSE\", which indicated whether or not each recipient became a customer of the company. For the \"TRAIN\" subset, this column has been retained, but in the \"TEST\" subset it has been removed; it is against that withheld column that your final predictions will be assessed in the Kaggle competition.\n",
    "\n",
    "Otherwise, all of the remaining columns are the same between the three data files. For more information about the columns depicted in the files, you can refer to two Excel spreadsheets provided in the workspace. [One of them](./DIAS Information Levels - Attributes 2017.xlsx) is a top-level list of attributes and descriptions, organized by informational category. [The other](./DIAS Attributes - Values 2017.xlsx) is a detailed mapping of data values for each feature in alphabetical order.\n",
    "\n",
    "In the below cell, we've provided some initial code to load in the first two datasets. Note for all of the `.csv` data files in this project that they're semicolon (`;`) delimited, so an additional argument in the [`read_csv()`](https://pandas.pydata.org/pandas-docs/stable/generated/pandas.read_csv.html) call has been included to read in the data properly. Also, considering the size of the datasets, it may take some time for them to load completely.\n",
    "\n",
    "You'll notice when the data is loaded in that a warning message will immediately pop up. Before you really start digging into the modeling and analysis, you're going to need to perform some cleaning. Take some time to browse the structure of the data and look over the informational spreadsheets to understand the data values. Make some decisions on which features to keep, which features to drop, and if any revisions need to be made on data formats. It'll be a good idea to create a function with pre-processing steps, since you'll need to clean all of the datasets before you work with them."
   ]
  },
  {
   "cell_type": "code",
   "execution_count": 2,
   "metadata": {},
   "outputs": [
    {
     "name": "stderr",
     "output_type": "stream",
     "text": [
      "C:\\Users\\Jose Yanez\\Anaconda3\\lib\\site-packages\\IPython\\core\\interactiveshell.py:3058: DtypeWarning: Columns (18,19) have mixed types. Specify dtype option on import or set low_memory=False.\n",
      "  interactivity=interactivity, compiler=compiler, result=result)\n"
     ]
    }
   ],
   "source": [
    "# load in the data\n",
    "azdias = pd.read_csv('Udacity_AZDIAS_052018.csv', sep=';')\n",
    "customers = pd.read_csv('Udacity_CUSTOMERS_052018.csv', sep=';')"
   ]
  },
  {
   "cell_type": "code",
   "execution_count": 3,
   "metadata": {},
   "outputs": [],
   "source": [
    "# Be sure to add in a lot more cells (both markdown and code) to document your\n",
    "# approach and findings!\n",
    "\n"
   ]
  },
  {
   "cell_type": "markdown",
   "metadata": {},
   "source": [
    "## EDA Azdias "
   ]
  },
  {
   "cell_type": "markdown",
   "metadata": {},
   "source": [
    "Questions driving the exploratory data analysis: \n",
    "\n",
    "1. What's the age distribution in AZDIAS and CUSTOMERS? \n",
    "2. There's information about socioeconomical status of customers? \n",
    "3. "
   ]
  },
  {
   "cell_type": "code",
   "execution_count": 4,
   "metadata": {},
   "outputs": [
    {
     "name": "stdout",
     "output_type": "stream",
     "text": [
      "(891221, 366)\n",
      "(191652, 369)\n"
     ]
    }
   ],
   "source": [
    "# Exploratory Data Analysis\n",
    "\n",
    "print(azdias.shape)\n",
    "\n",
    "print(customers.shape)\n",
    "\n",
    "#print(azdias.columns.values)"
   ]
  },
  {
   "cell_type": "code",
   "execution_count": 5,
   "metadata": {},
   "outputs": [
    {
     "data": {
      "text/plain": [
       "<matplotlib.axes._subplots.AxesSubplot at 0x2dc1057df08>"
      ]
     },
     "execution_count": 5,
     "metadata": {},
     "output_type": "execute_result"
    },
    {
     "data": {
      "image/png": "[encoded data removed]",
      "text/plain": [
       "<Figure size 432x288 with 1 Axes>"
      ]
     },
     "metadata": {
      "needs_background": "light"
     },
     "output_type": "display_data"
    }
   ],
   "source": [
    "# Age distribution in Customers\n",
    "# ALTER_HH: main age within the household\n",
    "\n",
    "customers['ALTER_HH'].hist(bins=22)\n"
   ]
  },
  {
   "cell_type": "code",
   "execution_count": 6,
   "metadata": {},
   "outputs": [
    {
     "data": {
      "text/plain": [
       "<matplotlib.axes._subplots.AxesSubplot at 0x2dc1a4f4f08>"
      ]
     },
     "execution_count": 6,
     "metadata": {},
     "output_type": "execute_result"
    },
    {
     "data": {
      "image/png": "[encoded data removed]",
      "text/plain": [
       "<Figure size 432x288 with 1 Axes>"
      ]
     },
     "metadata": {
      "needs_background": "light"
     },
     "output_type": "display_data"
    }
   ],
   "source": [
    "# Age distribution in AZDIAS\n",
    "# ALTER_HH: main age within the household\n",
    "\n",
    "azdias['ALTER_HH'].hist(bins=22)\n"
   ]
  },
  {
   "cell_type": "code",
   "execution_count": 7,
   "metadata": {},
   "outputs": [
    {
     "data": {
      "image/png": "[encoded data removed]",
      "text/plain": [
       "<Figure size 432x288 with 1 Axes>"
      ]
     },
     "metadata": {
      "needs_background": "light"
     },
     "output_type": "display_data"
    },
    {
     "data": {
      "image/png": "[encoded data removed]",
      "text/plain": [
       "<Figure size 432x288 with 1 Axes>"
      ]
     },
     "metadata": {
      "needs_background": "light"
     },
     "output_type": "display_data"
    }
   ],
   "source": [
    "# 2. There's information about socioeconomical status of customers? \n",
    "# The field CAMEO_DEUG_2015 refers to the CAMEO classificiation \n",
    "# -1 is missing values and other numerical values are proportional to economical status\n",
    "dic_1 = pd.DataFrame({'original'})\n",
    "\n",
    "pl1 = azdias[(~azdias['CAMEO_DEUG_2015'].isna()) & (azdias['CAMEO_DEUG_2015']!= 'X')]['CAMEO_DEUG_2015'].apply(int)\n",
    "pl1.head()\n",
    "sns.countplot(x = pl1)\n",
    "plt.show()\n",
    "pl1 = customers[(~customers['CAMEO_DEUG_2015'].isna()) & (customers['CAMEO_DEUG_2015']!= 'X')]['CAMEO_DEUG_2015'].apply(int)\n",
    "pl1.head()\n",
    "sns.countplot(x = pl1)\n",
    "plt.show()"
   ]
  },
  {
   "cell_type": "markdown",
   "metadata": {},
   "source": [
    "## Data Preprocessing and Cleaning\n",
    "\n",
    "General steps in this sections are:\n",
    "1. Create column customer\n",
    "3. Check the columns described in the dictionary and drop those missing\n",
    "4. Load "
   ]
  },
  {
   "cell_type": "code",
   "execution_count": 8,
   "metadata": {},
   "outputs": [],
   "source": [
    "# Adding customer mark and dropping different columns\n",
    "#azdias['Customer'] = 0\n",
    "#customers['Customer'] = 1 \n",
    "#customers = customers.drop(columns = ['PRODUCT_GROUP', 'CUSTOMER_GROUP', 'ONLINE_PURCHASE'])\n"
   ]
  },
  {
   "cell_type": "code",
   "execution_count": 9,
   "metadata": {},
   "outputs": [
    {
     "name": "stdout",
     "output_type": "stream",
     "text": [
      "              Attribute\n",
      "0              AGER_TYP\n",
      "1  ALTERSKATEGORIE_GROB\n",
      "2             ANREDE_KZ\n",
      "3         CJT_GESAMTTYP\n",
      "4     FINANZ_MINIMALIST\n",
      "318\n",
      "['AGER_TYP', 'ALTERSKATEGORIE_GROB', 'ANREDE_KZ', 'CJT_GESAMTTYP', 'FINANZ_MINIMALIST', 'FINANZ_SPARER', 'FINANZ_VORSORGER', 'FINANZ_ANLEGER', 'FINANZ_UNAUFFAELLIGER', 'FINANZ_HAUSBAUER', 'FINANZTYP', 'GEBURTSJAHR', 'GFK_URLAUBERTYP', 'GREEN_AVANTGARDE', 'HEALTH_TYP', 'LP_LEBENSPHASE_FEIN', 'LP_LEBENSPHASE_GROB', 'LP_FAMILIE_FEIN', 'LP_FAMILIE_GROB', 'LP_STATUS_FEIN', 'LP_STATUS_GROB', 'NATIONALITAET_KZ', 'PRAEGENDE_JUGENDJAHRE', 'RETOURTYP_BK_S', 'SEMIO_SOZ', 'SEMIO_FAM', 'SEMIO_REL', 'SEMIO_MAT', 'SEMIO_VERT', 'SEMIO_LUST', 'SEMIO_ERL', 'SEMIO_KULT', 'SEMIO_RAT', 'SEMIO_KRIT', 'SEMIO_DOM', 'SEMIO_KAEM', 'SEMIO_PFLICHT', 'SEMIO_TRADV', 'SHOPPER_TYP', 'SOHO_FLAG', 'TITEL_KZ', 'VERS_TYP', 'ZABEOTYP', 'ALTER_HH', 'ANZ_PERSONEN', 'ANZ_TITEL', 'HAUSHALTSSTRUKTUR', 'HH_EINKOMMEN_SCORE', 'D19_KK_KUNDENTYP', 'D19_KONSUMTYP', 'D19_GESAMT_ANZ_12', 'D19_GESAMT_ANZ_24', 'D19_BANKEN_ANZ_24', 'D19_BANKEN_ANZ_12', 'D19_TELKO_ANZ_12', 'D19_TELKO_ANZ_24', 'D19_VERSI_ANZ_12', 'D19_VERSI_ANZ_24', 'D19_VERSAND_ANZ_24', 'D19_VERSAND_ANZ_12', 'D19_GESAMT_OFFLINE_DATUM', 'D19_GESAMT_ONLINE_DATUM', 'D19_GESAMT_DATUM', 'D19_BANKEN_OFFLINE_DATUM', 'D19_BANKEN_ONLINE_DATUM', 'D19_BANKEN_DATUM', 'D19_TELKO_OFFLINE_DATUM', 'D19_TELKO_ONLINE_DATUM', 'D19_TELKO_DATUM', 'D19_VERSAND_OFFLINE_DATUM', 'D19_VERSAND_ONLINE_DATUM', 'D19_VERSAND_DATUM', 'D19_VERSI_OFFLINE_DATUM', 'D19_VERSI_ONLINE_DATUM', 'D19_VERSI_DATUM', 'D19_GESAMT_ONLINE_QUOTE_12', 'D19_BANKEN_ONLINE_QUOTE_12', 'D19_VERSAND_ONLINE_QUOTE_12', 'W_KEIT_KIND_HH', 'WOHNDAUER_2008', 'ANZ_HAUSHALTE_AKTIV', 'ANZ_HH_TITEL', 'GEBAEUDETYP', 'GEOSCORE_KLS7', 'KBA05_HERSTTEMP', 'KBA05_MODTEMP', 'KONSUMNAEHE', 'MIN_GEBAEUDEJAHR', 'OST_WEST_KZ', 'WOHNLAGE', 'CAMEO_DEUG_2015', 'CAMEO_DEU_2015', 'CAMEO_DEUINTL_2015', 'KBA05_ALTER1', 'KBA05_ALTER2', 'KBA05_ALTER3', 'KBA05_ALTER4', 'KBA05_ANHANG', 'KBA05_ANTG1', 'KBA05_ANTG2', 'KBA05_ANTG3', 'KBA05_ANTG4', 'KBA05_AUTOQUOT', 'KBA05_BAUMAX', 'KBA05_CCM1', 'KBA05_CCM2', 'KBA05_CCM3', 'KBA05_CCM4', 'KBA05_DIESEL', 'KBA05_FRAU', 'KBA05_GBZ', 'KBA05_HERST1', 'KBA05_HERST2', 'KBA05_HERST3', 'KBA05_HERST4', 'KBA05_HERST5', 'KBA05_KRSAQUOT', 'KBA05_KRSHERST1', 'KBA05_KRSHERST2', 'KBA05_KRSHERST3', 'KBA05_KRSKLEIN', 'KBA05_KRSOBER', 'KBA05_KRSVAN', 'KBA05_KRSZUL', 'KBA05_KW1', 'KBA05_KW2', 'KBA05_KW3', 'KBA05_MAXAH', 'KBA05_MAXBJ', 'KBA05_MAXHERST', 'KBA05_MAXSEG', 'KBA05_MAXVORB', 'KBA05_MOD1', 'KBA05_MOD2', 'KBA05_MOD3', 'KBA05_MOD4', 'KBA05_MOD8', 'KBA05_MOTOR', 'KBA05_MOTRAD', 'KBA05_SEG1', 'KBA05_SEG2', 'KBA05_SEG3', 'KBA05_SEG4', 'KBA05_SEG5', 'KBA05_SEG6', 'KBA05_SEG7', 'KBA05_SEG8', 'KBA05_SEG9', 'KBA05_SEG10', 'KBA05_VORB0', 'KBA05_VORB1', 'KBA05_VORB2', 'KBA05_ZUL1', 'KBA05_ZUL2', 'KBA05_ZUL3', 'KBA05_ZUL4', 'WACHSTUMSGEBIET_NB', 'D19_BANKEN_DIREKT_RZ', 'D19_BANKEN_GROSS_RZ', 'D19_BANKEN_LOKAL_RZ', 'D19_BANKEN_REST_RZ', 'D19_BEKLEIDUNG_GEH_RZ', 'D19_BEKLEIDUNG_REST_RZ', 'D19_BIO_OEKO_RZ', 'D19_BILDUNG_RZ', 'D19_BUCH_RZ', 'D19_DIGIT_SERV_RZ', 'D19_DROGERIEARTIKEL_RZ', 'D19_ENERGIE_RZ', 'D19_FREIZEIT_RZ', 'D19_GARTEN_RZ', 'D19_HANDWERK_RZ', 'D19_HAUS_DEKO_RZ', 'D19_KINDERARTIKEL_RZ', 'D19_KOSMETIK_RZ', 'D19_LEBENSMITTEL_RZ', 'D19_NAHRUNGSERGAENZUNG_RZ', 'D19_RATGEBER_RZ', 'D19_REISEN_RZ', 'D19_SAMMELARTIKEL_RZ', 'D19_SCHUHE_RZ', 'D19_SONSTIGE_RZ', 'D19_TECHNIK_RZ', 'D19_TELKO_MOBILE_RZ', 'D19_TELKO_REST_RZ', 'D19_TIERARTIKEL_RZ', 'D19_VERSICHERUNGEN_RZ', 'D19_VOLLSORTIMENT_RZ', 'D19_VERSAND_REST_RZ', 'D19_WEIN_FEINKOST_RZ', 'BALLRAUM', 'EWDICHTE', 'INNENSTADT', 'PLZ', 'GEBAEUDETYP_RASTER', 'KKK', 'MOBI_REGIO', 'ONLINE_AFFINITAET', 'REGIOTYP', 'KBA13_ALTERHALTER_30', 'KBA13_ALTERHALTER_45', 'KBA13_ALTERHALTER_60', 'KBA13_ALTERHALTER_61', 'KBA13_ANZAHL_PKW', 'KBA13_AUDI', 'KBA13_AUTOQUOTE', 'KBA13_BJ_1999', 'KBA13_BJ_2000', 'KBA13_BJ_2004', 'KBA13_BJ_2006', 'KBA13_BJ_2008', 'KBA13_BJ_2009', 'KBA13_BMW', 'KBA13_CCM_1000', 'KBA13_CCM_1200', 'KBA13_CCM_1400', 'KBA13_CCM_0_1400', 'KBA13_CCM_1500', 'KBA13_CCM_1400_2500', 'KBA13_CCM_1600', 'KBA13_CCM_1800', 'KBA13_CCM_2000', 'KBA13_CCM_2500', 'KBA13_CCM_2501', 'KBA13_FAB_ASIEN', 'KBA13_FAB_SONSTIGE', 'KBA13_FIAT', 'KBA13_FORD', 'KBA13_HALTER_20', 'KBA13_HALTER_25', 'KBA13_HALTER_30', 'KBA13_HALTER_35', 'KBA13_HALTER_40', 'KBA13_HALTER_45', 'KBA13_HALTER_50', 'KBA13_HALTER_55', 'KBA13_HALTER_60', 'KBA13_HALTER_65', 'KBA13_HALTER_66', 'KBA13_HERST_ASIEN', 'KBA13_HERST_AUDI_VW', 'KBA13_HERST_BMW_BENZ', 'KBA13_HERST_EUROPA', 'KBA13_HERST_FORD_OPEL', 'KBA13_HERST_SONST', 'KBA13_KMH_110', 'KBA13_KMH_140', 'KBA13_KMH_180', 'KBA13_KMH_0_140', 'KBA13_KMH_140_210', 'KBA13_KMH_211', 'KBA13_KMH_250', 'KBA13_KMH_251', 'KBA13_KRSAQUOT', 'KBA13_KRSHERST_AUDI_VW', 'KBA13_KRSHERST_BMW_BENZ', 'KBA13_KRSHERST_FORD_OPEL', 'KBA13_KRSSEG_KLEIN', 'KBA13_KRSSEG_OBER', 'KBA13_KRSSEG_VAN', 'KBA13_KRSZUL_NEU', 'KBA13_KW_30', 'KBA13_KW_40', 'KBA13_KW_50', 'KBA13_KW_60', 'KBA13_KW_0_60', 'KBA13_KW_70', 'KBA13_KW_61_120', 'KBA13_KW_80', 'KBA13_KW_90', 'KBA13_KW_110', 'KBA13_KW_120', 'KBA13_KW_121', 'KBA13_MAZDA', 'KBA13_MERCEDES', 'KBA13_MOTOR', 'KBA13_NISSAN', 'KBA13_OPEL', 'KBA13_PEUGEOT', 'KBA13_RENAULT', 'KBA13_SEG_GELAENDEWAGEN', 'KBA13_SEG_GROSSRAUMVANS', 'KBA13_SEG_KLEINST', 'KBA13_SEG_KLEINWAGEN', 'KBA13_SEG_KOMPAKTKLASSE', 'KBA13_SEG_MINIVANS', 'KBA13_SEG_MINIWAGEN', 'KBA13_SEG_MITTELKLASSE', 'KBA13_SEG_OBEREMITTELKLASSE', 'KBA13_SEG_OBERKLASSE', 'KBA13_SEG_SONSTIGE', 'KBA13_SEG_SPORTWAGEN', 'KBA13_SEG_UTILITIES', 'KBA13_SEG_VAN', 'KBA13_SEG_WOHNMOBILE', 'KBA13_SITZE_4', 'KBA13_SITZE_5', 'KBA13_SITZE_6', 'KBA13_TOYOTA', 'KBA13_VORB_0', 'KBA13_VORB_1', 'KBA13_VORB_1_2', 'KBA13_VORB_2', 'KBA13_VORB_3', 'KBA13_VW', 'PLZ8', 'PLZ8_ANTG1', 'PLZ8_ANTG2', 'PLZ8_ANTG3', 'PLZ8_ANTG4', 'PLZ8_BAUMAX', 'PLZ8_HHZ', 'PLZ8_GBZ', 'ARBEIT', 'EINWOHNER', 'GKZ', 'ORTSGR_KLS9', 'RELAT_AB']\n"
     ]
    },
    {
     "data": {
      "text/plain": [
       "{'AKT_DAT_KL',\n",
       " 'ALTERSKATEGORIE_FEIN',\n",
       " 'ALTER_KIND1',\n",
       " 'ALTER_KIND2',\n",
       " 'ALTER_KIND3',\n",
       " 'ALTER_KIND4',\n",
       " 'ANZ_KINDER',\n",
       " 'ANZ_STATISTISCHE_HAUSHALTE',\n",
       " 'CAMEO_INTL_2015',\n",
       " 'CJT_KATALOGNUTZER',\n",
       " 'CJT_TYP_1',\n",
       " 'CJT_TYP_2',\n",
       " 'CJT_TYP_3',\n",
       " 'CJT_TYP_4',\n",
       " 'CJT_TYP_5',\n",
       " 'CJT_TYP_6',\n",
       " 'D19_BANKEN_DIREKT',\n",
       " 'D19_BANKEN_GROSS',\n",
       " 'D19_BANKEN_LOKAL',\n",
       " 'D19_BANKEN_REST',\n",
       " 'D19_BEKLEIDUNG_GEH',\n",
       " 'D19_BEKLEIDUNG_REST',\n",
       " 'D19_BILDUNG',\n",
       " 'D19_BIO_OEKO',\n",
       " 'D19_BUCH_CD',\n",
       " 'D19_DIGIT_SERV',\n",
       " 'D19_DROGERIEARTIKEL',\n",
       " 'D19_ENERGIE',\n",
       " 'D19_FREIZEIT',\n",
       " 'D19_GARTEN',\n",
       " 'D19_HANDWERK',\n",
       " 'D19_HAUS_DEKO',\n",
       " 'D19_KINDERARTIKEL',\n",
       " 'D19_KONSUMTYP_MAX',\n",
       " 'D19_KOSMETIK',\n",
       " 'D19_LEBENSMITTEL',\n",
       " 'D19_LETZTER_KAUF_BRANCHE',\n",
       " 'D19_LOTTO',\n",
       " 'D19_NAHRUNGSERGAENZUNG',\n",
       " 'D19_RATGEBER',\n",
       " 'D19_REISEN',\n",
       " 'D19_SAMMELARTIKEL',\n",
       " 'D19_SCHUHE',\n",
       " 'D19_SONSTIGE',\n",
       " 'D19_SOZIALES',\n",
       " 'D19_TECHNIK',\n",
       " 'D19_TELKO_MOBILE',\n",
       " 'D19_TELKO_ONLINE_QUOTE_12',\n",
       " 'D19_TELKO_REST',\n",
       " 'D19_TIERARTIKEL',\n",
       " 'D19_VERSAND_REST',\n",
       " 'D19_VERSICHERUNGEN',\n",
       " 'D19_VERSI_ONLINE_QUOTE_12',\n",
       " 'D19_VOLLSORTIMENT',\n",
       " 'D19_WEIN_FEINKOST',\n",
       " 'DSL_FLAG',\n",
       " 'EINGEFUEGT_AM',\n",
       " 'EINGEZOGENAM_HH_JAHR',\n",
       " 'EXTSEL992',\n",
       " 'FIRMENDICHTE',\n",
       " 'GEMEINDETYP',\n",
       " 'HH_DELTA_FLAG',\n",
       " 'KBA13_ANTG1',\n",
       " 'KBA13_ANTG2',\n",
       " 'KBA13_ANTG3',\n",
       " 'KBA13_ANTG4',\n",
       " 'KBA13_BAUMAX',\n",
       " 'KBA13_CCM_1401_2500',\n",
       " 'KBA13_CCM_3000',\n",
       " 'KBA13_CCM_3001',\n",
       " 'KBA13_GBZ',\n",
       " 'KBA13_HHZ',\n",
       " 'KBA13_KMH_210',\n",
       " 'KK_KUNDENTYP',\n",
       " 'KOMBIALTER',\n",
       " 'KONSUMZELLE',\n",
       " 'LNR',\n",
       " 'MOBI_RASTER',\n",
       " 'RT_KEIN_ANREIZ',\n",
       " 'RT_SCHNAEPPCHEN',\n",
       " 'RT_UEBERGROESSE',\n",
       " 'SOHO_KZ',\n",
       " 'STRUKTURTYP',\n",
       " 'UMFELD_ALT',\n",
       " 'UMFELD_JUNG',\n",
       " 'UNGLEICHENN_FLAG',\n",
       " 'VERDICHTUNGSRAUM',\n",
       " 'VHA',\n",
       " 'VHN',\n",
       " 'VK_DHT4A',\n",
       " 'VK_DISTANZ',\n",
       " 'VK_ZG11'}"
      ]
     },
     "execution_count": 9,
     "metadata": {},
     "output_type": "execute_result"
    }
   ],
   "source": [
    "# Columns in DIAS Information Levesl\n",
    "\n",
    "data_dictionary  = pd.read_excel('DIAS Information Levels - Attributes 2017.xlsx', sheet_name = 'Hoja1' )\n",
    "\n",
    "print(data_dictionary.head())\n",
    "\n",
    "described_attributes = list(data_dictionary['Attribute'])\n",
    "#described_attributes = [i.split(' ', 1)[0] for i in described_attributes]\n",
    "print(len(described_attributes)) #The file has 318 attributes documented\n",
    "\n",
    "# List of non described attributes \n",
    "\n",
    "print(described_attributes)\n",
    "non_described_attributes = set(azdias.columns)-set(described_attributes)\n",
    "non_described_attributes\n",
    "\n",
    "\n",
    "\n",
    "\n",
    "\n",
    "\n",
    "\n",
    "#Source: https://stackoverflow.com/questions/6696027/how-to-split-elements-of-a-list"
   ]
  },
  {
   "cell_type": "code",
   "execution_count": 10,
   "metadata": {},
   "outputs": [
    {
     "name": "stdout",
     "output_type": "stream",
     "text": [
      "369\n"
     ]
    },
    {
     "data": {
      "text/plain": [
       "array(['LNR', 'AGER_TYP', 'AKT_DAT_KL', 'ALTER_HH', 'ALTER_KIND1',\n",
       "       'ALTER_KIND2', 'ALTER_KIND3', 'ALTER_KIND4',\n",
       "       'ALTERSKATEGORIE_FEIN', 'ANZ_HAUSHALTE_AKTIV', 'ANZ_HH_TITEL',\n",
       "       'ANZ_KINDER', 'ANZ_PERSONEN', 'ANZ_STATISTISCHE_HAUSHALTE',\n",
       "       'ANZ_TITEL', 'ARBEIT', 'BALLRAUM', 'CAMEO_DEU_2015',\n",
       "       'CAMEO_DEUG_2015', 'CAMEO_INTL_2015', 'CJT_GESAMTTYP',\n",
       "       'CJT_KATALOGNUTZER', 'CJT_TYP_1', 'CJT_TYP_2', 'CJT_TYP_3',\n",
       "       'CJT_TYP_4', 'CJT_TYP_5', 'CJT_TYP_6', 'D19_BANKEN_ANZ_12',\n",
       "       'D19_BANKEN_ANZ_24', 'D19_BANKEN_DATUM', 'D19_BANKEN_DIREKT',\n",
       "       'D19_BANKEN_GROSS', 'D19_BANKEN_LOKAL', 'D19_BANKEN_OFFLINE_DATUM',\n",
       "       'D19_BANKEN_ONLINE_DATUM', 'D19_BANKEN_ONLINE_QUOTE_12',\n",
       "       'D19_BANKEN_REST', 'D19_BEKLEIDUNG_GEH', 'D19_BEKLEIDUNG_REST',\n",
       "       'D19_BILDUNG', 'D19_BIO_OEKO', 'D19_BUCH_CD', 'D19_DIGIT_SERV',\n",
       "       'D19_DROGERIEARTIKEL', 'D19_ENERGIE', 'D19_FREIZEIT', 'D19_GARTEN',\n",
       "       'D19_GESAMT_ANZ_12', 'D19_GESAMT_ANZ_24', 'D19_GESAMT_DATUM',\n",
       "       'D19_GESAMT_OFFLINE_DATUM', 'D19_GESAMT_ONLINE_DATUM',\n",
       "       'D19_GESAMT_ONLINE_QUOTE_12', 'D19_HANDWERK', 'D19_HAUS_DEKO',\n",
       "       'D19_KINDERARTIKEL', 'D19_KONSUMTYP', 'D19_KONSUMTYP_MAX',\n",
       "       'D19_KOSMETIK', 'D19_LEBENSMITTEL', 'D19_LETZTER_KAUF_BRANCHE',\n",
       "       'D19_LOTTO', 'D19_NAHRUNGSERGAENZUNG', 'D19_RATGEBER',\n",
       "       'D19_REISEN', 'D19_SAMMELARTIKEL', 'D19_SCHUHE', 'D19_SONSTIGE',\n",
       "       'D19_SOZIALES', 'D19_TECHNIK', 'D19_TELKO_ANZ_12',\n",
       "       'D19_TELKO_ANZ_24', 'D19_TELKO_DATUM', 'D19_TELKO_MOBILE',\n",
       "       'D19_TELKO_OFFLINE_DATUM', 'D19_TELKO_ONLINE_DATUM',\n",
       "       'D19_TELKO_ONLINE_QUOTE_12', 'D19_TELKO_REST', 'D19_TIERARTIKEL',\n",
       "       'D19_VERSAND_ANZ_12', 'D19_VERSAND_ANZ_24', 'D19_VERSAND_DATUM',\n",
       "       'D19_VERSAND_OFFLINE_DATUM', 'D19_VERSAND_ONLINE_DATUM',\n",
       "       'D19_VERSAND_ONLINE_QUOTE_12', 'D19_VERSAND_REST',\n",
       "       'D19_VERSI_ANZ_12', 'D19_VERSI_ANZ_24', 'D19_VERSI_DATUM',\n",
       "       'D19_VERSI_OFFLINE_DATUM', 'D19_VERSI_ONLINE_DATUM',\n",
       "       'D19_VERSI_ONLINE_QUOTE_12', 'D19_VERSICHERUNGEN',\n",
       "       'D19_VOLLSORTIMENT', 'D19_WEIN_FEINKOST', 'DSL_FLAG',\n",
       "       'EINGEFUEGT_AM', 'EINGEZOGENAM_HH_JAHR', 'EWDICHTE', 'EXTSEL992',\n",
       "       'FINANZ_ANLEGER', 'FINANZ_HAUSBAUER', 'FINANZ_MINIMALIST',\n",
       "       'FINANZ_SPARER', 'FINANZ_UNAUFFAELLIGER', 'FINANZ_VORSORGER',\n",
       "       'FINANZTYP', 'FIRMENDICHTE', 'GEBAEUDETYP', 'GEBAEUDETYP_RASTER',\n",
       "       'GEBURTSJAHR', 'GEMEINDETYP', 'GFK_URLAUBERTYP',\n",
       "       'GREEN_AVANTGARDE', 'HEALTH_TYP', 'HH_DELTA_FLAG',\n",
       "       'HH_EINKOMMEN_SCORE', 'INNENSTADT', 'KBA05_ALTER1', 'KBA05_ALTER2',\n",
       "       'KBA05_ALTER3', 'KBA05_ALTER4', 'KBA05_ANHANG', 'KBA05_ANTG1',\n",
       "       'KBA05_ANTG2', 'KBA05_ANTG3', 'KBA05_ANTG4', 'KBA05_AUTOQUOT',\n",
       "       'KBA05_BAUMAX', 'KBA05_CCM1', 'KBA05_CCM2', 'KBA05_CCM3',\n",
       "       'KBA05_CCM4', 'KBA05_DIESEL', 'KBA05_FRAU', 'KBA05_GBZ',\n",
       "       'KBA05_HERST1', 'KBA05_HERST2', 'KBA05_HERST3', 'KBA05_HERST4',\n",
       "       'KBA05_HERST5', 'KBA05_HERSTTEMP', 'KBA05_KRSAQUOT',\n",
       "       'KBA05_KRSHERST1', 'KBA05_KRSHERST2', 'KBA05_KRSHERST3',\n",
       "       'KBA05_KRSKLEIN', 'KBA05_KRSOBER', 'KBA05_KRSVAN', 'KBA05_KRSZUL',\n",
       "       'KBA05_KW1', 'KBA05_KW2', 'KBA05_KW3', 'KBA05_MAXAH',\n",
       "       'KBA05_MAXBJ', 'KBA05_MAXHERST', 'KBA05_MAXSEG', 'KBA05_MAXVORB',\n",
       "       'KBA05_MOD1', 'KBA05_MOD2', 'KBA05_MOD3', 'KBA05_MOD4',\n",
       "       'KBA05_MOD8', 'KBA05_MODTEMP', 'KBA05_MOTOR', 'KBA05_MOTRAD',\n",
       "       'KBA05_SEG1', 'KBA05_SEG10', 'KBA05_SEG2', 'KBA05_SEG3',\n",
       "       'KBA05_SEG4', 'KBA05_SEG5', 'KBA05_SEG6', 'KBA05_SEG7',\n",
       "       'KBA05_SEG8', 'KBA05_SEG9', 'KBA05_VORB0', 'KBA05_VORB1',\n",
       "       'KBA05_VORB2', 'KBA05_ZUL1', 'KBA05_ZUL2', 'KBA05_ZUL3',\n",
       "       'KBA05_ZUL4', 'KBA13_ALTERHALTER_30', 'KBA13_ALTERHALTER_45',\n",
       "       'KBA13_ALTERHALTER_60', 'KBA13_ALTERHALTER_61', 'KBA13_ANTG1',\n",
       "       'KBA13_ANTG2', 'KBA13_ANTG3', 'KBA13_ANTG4', 'KBA13_ANZAHL_PKW',\n",
       "       'KBA13_AUDI', 'KBA13_AUTOQUOTE', 'KBA13_BAUMAX', 'KBA13_BJ_1999',\n",
       "       'KBA13_BJ_2000', 'KBA13_BJ_2004', 'KBA13_BJ_2006', 'KBA13_BJ_2008',\n",
       "       'KBA13_BJ_2009', 'KBA13_BMW', 'KBA13_CCM_0_1400', 'KBA13_CCM_1000',\n",
       "       'KBA13_CCM_1200', 'KBA13_CCM_1400', 'KBA13_CCM_1401_2500',\n",
       "       'KBA13_CCM_1500', 'KBA13_CCM_1600', 'KBA13_CCM_1800',\n",
       "       'KBA13_CCM_2000', 'KBA13_CCM_2500', 'KBA13_CCM_2501',\n",
       "       'KBA13_CCM_3000', 'KBA13_CCM_3001', 'KBA13_FAB_ASIEN',\n",
       "       'KBA13_FAB_SONSTIGE', 'KBA13_FIAT', 'KBA13_FORD', 'KBA13_GBZ',\n",
       "       'KBA13_HALTER_20', 'KBA13_HALTER_25', 'KBA13_HALTER_30',\n",
       "       'KBA13_HALTER_35', 'KBA13_HALTER_40', 'KBA13_HALTER_45',\n",
       "       'KBA13_HALTER_50', 'KBA13_HALTER_55', 'KBA13_HALTER_60',\n",
       "       'KBA13_HALTER_65', 'KBA13_HALTER_66', 'KBA13_HERST_ASIEN',\n",
       "       'KBA13_HERST_AUDI_VW', 'KBA13_HERST_BMW_BENZ',\n",
       "       'KBA13_HERST_EUROPA', 'KBA13_HERST_FORD_OPEL', 'KBA13_HERST_SONST',\n",
       "       'KBA13_HHZ', 'KBA13_KMH_0_140', 'KBA13_KMH_110', 'KBA13_KMH_140',\n",
       "       'KBA13_KMH_140_210', 'KBA13_KMH_180', 'KBA13_KMH_210',\n",
       "       'KBA13_KMH_211', 'KBA13_KMH_250', 'KBA13_KMH_251',\n",
       "       'KBA13_KRSAQUOT', 'KBA13_KRSHERST_AUDI_VW',\n",
       "       'KBA13_KRSHERST_BMW_BENZ', 'KBA13_KRSHERST_FORD_OPEL',\n",
       "       'KBA13_KRSSEG_KLEIN', 'KBA13_KRSSEG_OBER', 'KBA13_KRSSEG_VAN',\n",
       "       'KBA13_KRSZUL_NEU', 'KBA13_KW_0_60', 'KBA13_KW_110',\n",
       "       'KBA13_KW_120', 'KBA13_KW_121', 'KBA13_KW_30', 'KBA13_KW_40',\n",
       "       'KBA13_KW_50', 'KBA13_KW_60', 'KBA13_KW_61_120', 'KBA13_KW_70',\n",
       "       'KBA13_KW_80', 'KBA13_KW_90', 'KBA13_MAZDA', 'KBA13_MERCEDES',\n",
       "       'KBA13_MOTOR', 'KBA13_NISSAN', 'KBA13_OPEL', 'KBA13_PEUGEOT',\n",
       "       'KBA13_RENAULT', 'KBA13_SEG_GELAENDEWAGEN',\n",
       "       'KBA13_SEG_GROSSRAUMVANS', 'KBA13_SEG_KLEINST',\n",
       "       'KBA13_SEG_KLEINWAGEN', 'KBA13_SEG_KOMPAKTKLASSE',\n",
       "       'KBA13_SEG_MINIVANS', 'KBA13_SEG_MINIWAGEN',\n",
       "       'KBA13_SEG_MITTELKLASSE', 'KBA13_SEG_OBEREMITTELKLASSE',\n",
       "       'KBA13_SEG_OBERKLASSE', 'KBA13_SEG_SONSTIGE',\n",
       "       'KBA13_SEG_SPORTWAGEN', 'KBA13_SEG_UTILITIES', 'KBA13_SEG_VAN',\n",
       "       'KBA13_SEG_WOHNMOBILE', 'KBA13_SITZE_4', 'KBA13_SITZE_5',\n",
       "       'KBA13_SITZE_6', 'KBA13_TOYOTA', 'KBA13_VORB_0', 'KBA13_VORB_1',\n",
       "       'KBA13_VORB_1_2', 'KBA13_VORB_2', 'KBA13_VORB_3', 'KBA13_VW',\n",
       "       'KK_KUNDENTYP', 'KKK', 'KOMBIALTER', 'KONSUMNAEHE', 'KONSUMZELLE',\n",
       "       'LP_FAMILIE_FEIN', 'LP_FAMILIE_GROB', 'LP_LEBENSPHASE_FEIN',\n",
       "       'LP_LEBENSPHASE_GROB', 'LP_STATUS_FEIN', 'LP_STATUS_GROB',\n",
       "       'MIN_GEBAEUDEJAHR', 'MOBI_RASTER', 'MOBI_REGIO',\n",
       "       'NATIONALITAET_KZ', 'ONLINE_AFFINITAET', 'ORTSGR_KLS9',\n",
       "       'OST_WEST_KZ', 'PLZ8_ANTG1', 'PLZ8_ANTG2', 'PLZ8_ANTG3',\n",
       "       'PLZ8_ANTG4', 'PLZ8_BAUMAX', 'PLZ8_GBZ', 'PLZ8_HHZ',\n",
       "       'PRAEGENDE_JUGENDJAHRE', 'REGIOTYP', 'RELAT_AB', 'RETOURTYP_BK_S',\n",
       "       'RT_KEIN_ANREIZ', 'RT_SCHNAEPPCHEN', 'RT_UEBERGROESSE',\n",
       "       'SEMIO_DOM', 'SEMIO_ERL', 'SEMIO_FAM', 'SEMIO_KAEM', 'SEMIO_KRIT',\n",
       "       'SEMIO_KULT', 'SEMIO_LUST', 'SEMIO_MAT', 'SEMIO_PFLICHT',\n",
       "       'SEMIO_RAT', 'SEMIO_REL', 'SEMIO_SOZ', 'SEMIO_TRADV', 'SEMIO_VERT',\n",
       "       'SHOPPER_TYP', 'SOHO_KZ', 'STRUKTURTYP', 'TITEL_KZ', 'UMFELD_ALT',\n",
       "       'UMFELD_JUNG', 'UNGLEICHENN_FLAG', 'VERDICHTUNGSRAUM', 'VERS_TYP',\n",
       "       'VHA', 'VHN', 'VK_DHT4A', 'VK_DISTANZ', 'VK_ZG11',\n",
       "       'W_KEIT_KIND_HH', 'WOHNDAUER_2008', 'WOHNLAGE', 'ZABEOTYP',\n",
       "       'PRODUCT_GROUP', 'CUSTOMER_GROUP', 'ONLINE_PURCHASE', 'ANREDE_KZ',\n",
       "       'ALTERSKATEGORIE_GROB'], dtype=object)"
      ]
     },
     "execution_count": 10,
     "metadata": {},
     "output_type": "execute_result"
    }
   ],
   "source": [
    "print(len(customers.columns.values))\n",
    "customers.columns.values"
   ]
  },
  {
   "cell_type": "code",
   "execution_count": 11,
   "metadata": {},
   "outputs": [
    {
     "data": {
      "text/plain": [
       "92"
      ]
     },
     "execution_count": 11,
     "metadata": {},
     "output_type": "execute_result"
    }
   ],
   "source": [
    "len(non_described_attributes)"
   ]
  },
  {
   "cell_type": "code",
   "execution_count": 12,
   "metadata": {},
   "outputs": [
    {
     "name": "stdout",
     "output_type": "stream",
     "text": [
      "azdias has 366 columns\n",
      "azdias has 274 columns\n"
     ]
    }
   ],
   "source": [
    "\n",
    "# Droping columns non described \n",
    "\n",
    "print(f\"azdias has {len(azdias.columns)} columns\")\n",
    "azdias.drop(columns = non_described_attributes, inplace = True)\n",
    "#customers.drop(columns = non_described_attributes, inplace = True)\n",
    "print(f\"azdias has {len(azdias.columns)} columns\")\n"
   ]
  },
  {
   "cell_type": "code",
   "execution_count": 13,
   "metadata": {},
   "outputs": [
    {
     "data": {
      "text/plain": [
       "{'BIP_FLAG',\n",
       " 'CAMEO_DEUINTL_2015',\n",
       " 'D19_KK_KUNDENTYP',\n",
       " 'GEOSCORE_KLS7',\n",
       " 'HAUSHALTSSTRUKTUR',\n",
       " 'KBA13_CCM_1400_2500',\n",
       " 'KBA13_CCM_3000',\n",
       " 'KBA13_CCM_3001',\n",
       " 'SOHO_FLAG',\n",
       " 'WACHSTUMSGEBIET_NB',\n",
       " nan}"
      ]
     },
     "execution_count": 13,
     "metadata": {},
     "output_type": "execute_result"
    }
   ],
   "source": [
    "# Loading file with description of coded unkown values (-1, 0, 9, etc)\n",
    "coded_mv = pd.read_excel('coded_missing_values.xlsx')\n",
    "coded_mv['Attribute']\n",
    "\n",
    "#Cols in coded_mv but not in azdias\n",
    "set(coded_mv['Attribute'])-set(azdias.columns) # 10 columns are documented but are also missing from azdias dataset\n"
   ]
  },
  {
   "cell_type": "code",
   "execution_count": 14,
   "metadata": {},
   "outputs": [
    {
     "name": "stdout",
     "output_type": "stream",
     "text": [
      "C\n",
      "A\n",
      "D\n",
      "B\n",
      "E\n",
      "--- 5.731320858001709 seconds ---\n"
     ]
    }
   ],
   "source": [
    "## Replacing -1, 0 and 9 according to the coded missing values (coded_mv)\n",
    "\n",
    "import time\n",
    "start_time = time.time()\n",
    "\n",
    "\n",
    "## For A type columns I need to replace -1 to np.nan\n",
    "\n",
    "for j in set(coded_mv['Replace_Type']):\n",
    "    print(j)\n",
    "    cols_replace = set(coded_mv[coded_mv['Replace_Type']==j]['Attribute']).intersection(set(azdias.columns))\n",
    "    for column in cols_replace:\n",
    "        if j in ('A','C','D','E'):\n",
    "            azdias[column] = azdias[column].replace(-1,np.nan)\n",
    "            #print(f'Reemplazar -1 a nan en la columna{column}')\n",
    "        if j in ('B','D'):\n",
    "            azdias[column] = azdias[column].replace(0,np.nan)\n",
    "            #print(f'Reemplazar 0 a nan en la columna{column}')\n",
    "        if j in ('E'):\n",
    "            azdias[column] = azdias[column].replace(9,np.nan)\n",
    "            #print(f'Reemplazar 9 a nan en la columna{column}')\n",
    "        \n",
    "        \n",
    "print(\"--- %s seconds ---\" % (time.time() - start_time))\n",
    "        \n",
    "        \n",
    "#df['col1'].map(di).fillna(df['col1'])\n"
   ]
  },
  {
   "cell_type": "code",
   "execution_count": 15,
   "metadata": {},
   "outputs": [
    {
     "name": "stdout",
     "output_type": "stream",
     "text": [
      "AGER_TYP\n",
      "Float64Index([nan, 2.0, 1.0, 3.0, 0.0], dtype='float64')\n",
      "ALTER_HH\n",
      "Float64Index([ nan, 18.0, 17.0, 19.0, 15.0, 16.0, 14.0, 21.0, 20.0, 13.0, 12.0,\n",
      "              10.0, 11.0,  9.0,  8.0,  7.0,  6.0,  5.0,  4.0,  3.0,  2.0,\n",
      "               1.0],\n",
      "             dtype='float64')\n",
      "ANZ_HAUSHALTE_AKTIV\n",
      "Float64Index([  1.0,   2.0,   nan,   3.0,   4.0,   5.0,   6.0,   7.0,   8.0,\n",
      "                9.0,\n",
      "              ...\n",
      "              272.0, 395.0, 237.0, 254.0, 404.0, 213.0, 366.0, 536.0, 232.0,\n",
      "              220.0],\n",
      "             dtype='float64', length=293)\n",
      "ANZ_HH_TITEL\n",
      "Float64Index([ 0.0,  nan,  1.0,  2.0,  3.0,  4.0,  5.0,  6.0,  8.0,  7.0,  9.0,\n",
      "              13.0, 12.0, 11.0, 14.0, 10.0, 17.0, 20.0, 15.0, 18.0, 16.0,\n",
      "              23.0],\n",
      "             dtype='float64')\n",
      "ANZ_PERSONEN\n",
      "Float64Index([ 1.0,  2.0,  3.0,  nan,  4.0,  0.0,  5.0,  6.0,  7.0,  8.0,  9.0,\n",
      "              10.0, 11.0, 12.0, 13.0, 21.0, 14.0, 15.0, 20.0, 22.0, 38.0, 37.0,\n",
      "              23.0, 40.0, 29.0, 17.0, 45.0, 18.0, 16.0, 35.0, 31.0],\n",
      "             dtype='float64')\n",
      "ANZ_TITEL\n",
      "Float64Index([0.0, nan, 1.0, 2.0, 3.0, 4.0, 6.0], dtype='float64')\n",
      "ARBEIT\n",
      "Float64Index([4.0, 3.0, 2.0, nan, 1.0, 5.0, 9.0], dtype='float64')\n",
      "BALLRAUM\n",
      "Float64Index([6.0, 1.0, 2.0, 7.0, nan, 3.0, 4.0, 5.0], dtype='float64')\n",
      "CAMEO_DEU_2015\n",
      "Index([ nan, '6B', '8A', '4C', '2D', '3C', '7A', '3D', '8B', '4A', '8C', '9D',\n",
      "       '9B', '9C', '7B', '9A', '2C', '8D', '6E', '2B', '5D', '6C', '2A', '5A',\n",
      "       '1D', '1A', '3A', '5B', '5C', '7C', '4B', '4D', '3B', '6A', '9E', '6D',\n",
      "       '6F', '7D', '4E', '1E', '7E', '1C', '5F', '1B', '5E', 'XX'],\n",
      "      dtype='object')\n",
      "CAMEO_DEUG_2015\n",
      "Index([nan, '8', '9', '6', '4', 8.0, '3', '2', 9.0, '7', 6.0, 4.0, 3.0, 2.0,\n",
      "       7.0, '5', 5.0, '1', 1.0, 'X'],\n",
      "      dtype='object')\n",
      "CJT_GESAMTTYP\n",
      "Float64Index([4.0, 3.0, 6.0, 2.0, 5.0, 1.0, nan], dtype='float64')\n",
      "D19_BANKEN_ANZ_12\n",
      "Int64Index([0, 1, 2, 3, 4, 5, 6], dtype='int64')\n",
      "D19_BANKEN_ANZ_24\n",
      "Int64Index([0, 1, 2, 3, 4, 5, 6], dtype='int64')\n",
      "D19_BANKEN_DATUM\n",
      "Int64Index([10, 9, 8, 5, 7, 6, 1, 4, 2, 3], dtype='int64')\n",
      "D19_BANKEN_OFFLINE_DATUM\n",
      "Int64Index([10, 8, 9, 5, 2, 6, 1, 7, 4, 3], dtype='int64')\n",
      "D19_BANKEN_ONLINE_DATUM\n",
      "Int64Index([10, 9, 8, 5, 7, 6, 1, 4, 2, 3], dtype='int64')\n",
      "D19_BANKEN_ONLINE_QUOTE_12\n",
      "Float64Index([0.0, nan, 10.0, 5.0, 3.0, 7.0, 8.0, 9.0, 6.0, 2.0, 4.0, 1.0], dtype='float64')\n",
      "D19_GESAMT_ANZ_12\n",
      "Int64Index([0, 1, 2, 3, 4, 5, 6], dtype='int64')\n",
      "D19_GESAMT_ANZ_24\n",
      "Int64Index([0, 2, 1, 4, 3, 5, 6], dtype='int64')\n",
      "D19_GESAMT_DATUM\n",
      "Int64Index([10, 9, 5, 1, 2, 8, 4, 6, 7, 3], dtype='int64')\n",
      "D19_GESAMT_OFFLINE_DATUM\n",
      "Int64Index([10, 9, 8, 5, 7, 6, 4, 2, 1, 3], dtype='int64')\n",
      "D19_GESAMT_ONLINE_DATUM\n",
      "Int64Index([10, 9, 5, 1, 8, 2, 6, 4, 7, 3], dtype='int64')\n",
      "D19_GESAMT_ONLINE_QUOTE_12\n",
      "Float64Index([0.0, nan, 10.0, 5.0, 8.0, 7.0, 9.0, 3.0, 6.0, 2.0, 4.0, 1.0], dtype='float64')\n",
      "D19_KONSUMTYP\n",
      "Float64Index([nan, 9.0, 1.0, 4.0, 6.0, 3.0, 2.0, 5.0], dtype='float64')\n",
      "D19_TELKO_ANZ_12\n",
      "Int64Index([0, 1, 2, 3, 4, 5, 6], dtype='int64')\n",
      "D19_TELKO_ANZ_24\n",
      "Int64Index([0, 1, 2, 3, 4, 5, 6], dtype='int64')\n",
      "D19_TELKO_DATUM\n",
      "Int64Index([10, 9, 8, 5, 7, 6, 4, 1, 2, 3], dtype='int64')\n",
      "D19_TELKO_OFFLINE_DATUM\n",
      "Int64Index([10, 9, 8, 5, 6, 7, 4, 1, 2, 3], dtype='int64')\n",
      "D19_TELKO_ONLINE_DATUM\n",
      "Int64Index([10, 9, 8, 7, 5, 6, 4, 1, 3, 2], dtype='int64')\n",
      "D19_VERSAND_ANZ_12\n",
      "Int64Index([0, 1, 2, 3, 4, 5, 6], dtype='int64')\n",
      "D19_VERSAND_ANZ_24\n",
      "Int64Index([0, 2, 1, 4, 3, 5, 6], dtype='int64')\n",
      "D19_VERSAND_DATUM\n",
      "Int64Index([10, 9, 5, 1, 8, 2, 6, 4, 7, 3], dtype='int64')\n",
      "D19_VERSAND_OFFLINE_DATUM\n",
      "Int64Index([10, 9, 8, 5, 7, 6, 4, 2, 1, 3], dtype='int64')\n",
      "D19_VERSAND_ONLINE_DATUM\n",
      "Int64Index([10, 9, 5, 1, 8, 2, 6, 4, 7, 3], dtype='int64')\n",
      "D19_VERSAND_ONLINE_QUOTE_12\n",
      "Float64Index([0.0, nan, 10.0, 5.0, 8.0, 7.0, 9.0, 3.0, 6.0, 2.0, 4.0, 1.0], dtype='float64')\n",
      "D19_VERSI_ANZ_12\n",
      "Int64Index([0, 1, 2, 3, 4, 5, 6], dtype='int64')\n",
      "D19_VERSI_ANZ_24\n",
      "Int64Index([0, 1, 2, 3, 4, 5, 6], dtype='int64')\n",
      "D19_VERSI_DATUM\n",
      "Int64Index([10, 9, 8, 5, 6, 7, 2, 4, 1, 3], dtype='int64')\n",
      "D19_VERSI_OFFLINE_DATUM\n",
      "Int64Index([10, 9, 8, 5, 7, 6, 4, 2, 3, 1], dtype='int64')\n",
      "D19_VERSI_ONLINE_DATUM\n",
      "Int64Index([10, 9, 8, 7, 5, 6, 4, 2, 3, 1], dtype='int64')\n",
      "EWDICHTE\n",
      "Float64Index([6.0, 5.0, 2.0, 4.0, nan, 1.0, 3.0], dtype='float64')\n",
      "FINANZ_ANLEGER\n",
      "Int64Index([5, 1, 2, 4, 3], dtype='int64')\n",
      "FINANZ_HAUSBAUER\n",
      "Int64Index([3, 5, 2, 4, 1], dtype='int64')\n",
      "FINANZ_MINIMALIST\n",
      "Int64Index([3, 5, 4, 2, 1], dtype='int64')\n",
      "FINANZ_SPARER\n",
      "Int64Index([1, 4, 2, 5, 3], dtype='int64')\n",
      "FINANZ_UNAUFFAELLIGER\n",
      "Int64Index([1, 5, 2, 3, 4], dtype='int64')\n",
      "FINANZ_VORSORGER\n",
      "Int64Index([5, 3, 4, 2, 1], dtype='int64')\n",
      "FINANZTYP\n",
      "Int64Index([6, 1, 4, 2, 5, 3], dtype='int64')\n",
      "GEBAEUDETYP\n",
      "Float64Index([1.0, 3.0, 8.0, nan, 2.0, 4.0, 6.0, 5.0], dtype='float64')\n",
      "GEBAEUDETYP_RASTER\n",
      "Float64Index([4.0, 3.0, 5.0, nan, 2.0, 1.0], dtype='float64')\n",
      "GEBURTSJAHR\n",
      "Int64Index([   0, 1967, 1965, 1966, 1970, 1964, 1968, 1963, 1969, 1980,\n",
      "            ...\n",
      "            1911, 1912, 1905, 1908, 1906, 1909, 1904, 1907, 1900, 1902],\n",
      "           dtype='int64', length=117)\n",
      "GFK_URLAUBERTYP\n",
      "Float64Index([12.0, 5.0, 10.0, 8.0, 11.0, 4.0, 9.0, 3.0, 1.0, 2.0, 7.0, 6.0,\n",
      "              nan],\n",
      "             dtype='float64')\n",
      "GREEN_AVANTGARDE\n",
      "Int64Index([0, 1], dtype='int64')\n",
      "HEALTH_TYP\n",
      "Float64Index([3.0, 2.0, 1.0, nan], dtype='float64')\n",
      "HH_EINKOMMEN_SCORE\n",
      "Float64Index([6.0, 5.0, 2.0, 4.0, 3.0, 1.0, nan], dtype='float64')\n",
      "INNENSTADT\n",
      "Float64Index([5.0, 4.0, 6.0, 2.0, nan, 3.0, 8.0, 7.0, 1.0], dtype='float64')\n",
      "KBA05_ALTER1\n",
      "Float64Index([2.0, 1.0, 3.0, nan, 0.0, 4.0], dtype='float64')\n",
      "KBA05_ALTER2\n",
      "Float64Index([3.0, 2.0, 4.0, nan, 5.0, 1.0], dtype='float64')\n",
      "KBA05_ALTER3\n",
      "Float64Index([3.0, 2.0, 4.0, nan, 1.0, 5.0], dtype='float64')\n",
      "KBA05_ALTER4\n",
      "Float64Index([3.0, nan, 4.0, 2.0, 1.0, 5.0, 0.0], dtype='float64')\n",
      "KBA05_ANHANG\n",
      "Float64Index([1.0, 0.0, nan, 3.0, 2.0], dtype='float64')\n",
      "KBA05_ANTG1\n",
      "Float64Index([0.0, 1.0, nan, 2.0, 3.0, 4.0], dtype='float64')\n",
      "KBA05_ANTG2\n",
      "Float64Index([0.0, 1.0, 2.0, 3.0, nan, 4.0], dtype='float64')\n",
      "KBA05_ANTG3\n",
      "Float64Index([0.0, nan, 1.0, 2.0, 3.0], dtype='float64')\n",
      "KBA05_ANTG4\n",
      "Float64Index([0.0, nan, 1.0, 2.0], dtype='float64')\n",
      "KBA05_AUTOQUOT\n",
      "Float64Index([3.0, 4.0, nan, 2.0, 1.0, 5.0, 9.0], dtype='float64')\n",
      "KBA05_BAUMAX\n",
      "Float64Index([nan, 1.0, 5.0, 3.0, 4.0, 2.0], dtype='float64')\n",
      "KBA05_CCM1\n",
      "Float64Index([3.0, 2.0, 4.0, nan, 1.0, 5.0], dtype='float64')\n",
      "KBA05_CCM2\n",
      "Float64Index([3.0, 4.0, 2.0, nan, 1.0, 5.0], dtype='float64')\n",
      "KBA05_CCM3\n",
      "Float64Index([3.0, 4.0, 2.0, nan, 5.0, 1.0], dtype='float64')\n",
      "KBA05_CCM4\n",
      "Float64Index([0.0, 1.0, nan, 2.0, 3.0, 4.0], dtype='float64')\n",
      "KBA05_DIESEL\n",
      "Float64Index([2.0, 3.0, 1.0, nan, 4.0, 0.0], dtype='float64')\n",
      "KBA05_FRAU\n",
      "Float64Index([3.0, 2.0, nan, 4.0, 5.0, 1.0], dtype='float64')\n",
      "KBA05_GBZ\n",
      "Float64Index([3.0, 5.0, 4.0, 2.0, nan, 1.0], dtype='float64')\n",
      "KBA05_HERST1\n",
      "Float64Index([2.0, 3.0, nan, 1.0, 4.0, 0.0, 5.0], dtype='float64')\n",
      "KBA05_HERST2\n",
      "Float64Index([3.0, 2.0, 4.0, nan, 5.0, 1.0], dtype='float64')\n",
      "KBA05_HERST3\n",
      "Float64Index([3.0, 2.0, nan, 4.0, 5.0, 1.0, 0.0], dtype='float64')\n",
      "KBA05_HERST4\n",
      "Float64Index([3.0, 2.0, nan, 4.0, 1.0, 5.0, 0.0], dtype='float64')\n",
      "KBA05_HERST5\n",
      "Float64Index([3.0, 2.0, 4.0, nan, 5.0, 1.0, 0.0], dtype='float64')\n",
      "KBA05_HERSTTEMP\n",
      "Float64Index([3.0, 1.0, 2.0, 4.0, nan, 5.0], dtype='float64')\n",
      "KBA05_KRSAQUOT\n",
      "Float64Index([3.0, 2.0, nan, 4.0, 1.0, 5.0], dtype='float64')\n",
      "KBA05_KRSHERST1\n",
      "Float64Index([3.0, 2.0, 4.0, nan, 1.0, 5.0], dtype='float64')\n",
      "KBA05_KRSHERST2\n",
      "Float64Index([3.0, 2.0, 4.0, nan, 1.0, 5.0], dtype='float64')\n",
      "KBA05_KRSHERST3\n",
      "Float64Index([3.0, 2.0, nan, 4.0, 5.0, 1.0], dtype='float64')\n",
      "KBA05_KRSKLEIN\n",
      "Float64Index([2.0, 1.0, 3.0, nan], dtype='float64')\n",
      "KBA05_KRSOBER\n",
      "Float64Index([2.0, 1.0, nan, 3.0], dtype='float64')\n",
      "KBA05_KRSVAN\n",
      "Float64Index([2.0, nan, 1.0, 3.0], dtype='float64')\n",
      "KBA05_KRSZUL\n",
      "Float64Index([2.0, 1.0, 3.0, nan], dtype='float64')\n",
      "KBA05_KW1\n",
      "Float64Index([3.0, 4.0, 2.0, nan, 1.0, 5.0], dtype='float64')\n",
      "KBA05_KW2\n",
      "Float64Index([3.0, 2.0, 4.0, nan, 5.0, 1.0], dtype='float64')\n",
      "KBA05_KW3\n",
      "Float64Index([1.0, 0.0, 2.0, nan, 3.0, 4.0], dtype='float64')\n",
      "KBA05_MAXAH\n",
      "Float64Index([3.0, 5.0, 2.0, nan, 4.0, 1.0], dtype='float64')\n",
      "KBA05_MAXBJ\n",
      "Float64Index([1.0, 4.0, 2.0, nan, 3.0], dtype='float64')\n",
      "KBA05_MAXHERST\n",
      "Float64Index([2.0, 3.0, nan, 4.0, 1.0, 5.0], dtype='float64')\n",
      "KBA05_MAXSEG\n"
     ]
    },
    {
     "name": "stdout",
     "output_type": "stream",
     "text": [
      "Float64Index([2.0, 1.0, 3.0, nan, 4.0], dtype='float64')\n",
      "KBA05_MAXVORB\n",
      "Float64Index([2.0, 3.0, 1.0, nan], dtype='float64')\n",
      "KBA05_MOD1\n",
      "Float64Index([0.0, 2.0, nan, 1.0, 3.0, 4.0], dtype='float64')\n",
      "KBA05_MOD2\n",
      "Float64Index([3.0, 2.0, 4.0, nan, 1.0, 5.0], dtype='float64')\n",
      "KBA05_MOD3\n",
      "Float64Index([3.0, 2.0, 4.0, nan, 1.0, 5.0], dtype='float64')\n",
      "KBA05_MOD4\n",
      "Float64Index([3.0, 2.0, nan, 4.0, 1.0, 5.0, 0.0], dtype='float64')\n",
      "KBA05_MOD8\n",
      "Float64Index([0.0, 1.0, 2.0, nan, 3.0], dtype='float64')\n",
      "KBA05_MODTEMP\n",
      "Float64Index([3.0, 4.0, 1.0, nan, 2.0, 5.0, 6.0], dtype='float64')\n",
      "KBA05_MOTOR\n",
      "Float64Index([3.0, 2.0, nan, 1.0, 4.0], dtype='float64')\n",
      "KBA05_MOTRAD\n",
      "Float64Index([1.0, 0.0, nan, 2.0, 3.0], dtype='float64')\n",
      "KBA05_SEG1\n",
      "Float64Index([1.0, 0.0, 2.0, nan, 3.0], dtype='float64')\n",
      "KBA05_SEG10\n",
      "Float64Index([2.0, 1.0, 3.0, nan, 0.0, 4.0], dtype='float64')\n",
      "KBA05_SEG2\n",
      "Float64Index([3.0, 4.0, 2.0, nan, 1.0, 5.0], dtype='float64')\n",
      "KBA05_SEG3\n",
      "Float64Index([3.0, 2.0, 4.0, nan, 1.0, 5.0], dtype='float64')\n",
      "KBA05_SEG4\n",
      "Float64Index([3.0, 2.0, nan, 4.0, 1.0, 5.0], dtype='float64')\n",
      "KBA05_SEG5\n",
      "Float64Index([1.0, 2.0, 0.0, nan, 3.0, 4.0], dtype='float64')\n",
      "KBA05_SEG6\n",
      "Float64Index([0.0, nan, 1.0], dtype='float64')\n",
      "KBA05_SEG7\n",
      "Float64Index([0.0, 1.0, nan, 2.0, 3.0], dtype='float64')\n",
      "KBA05_SEG8\n",
      "Float64Index([0.0, 1.0, nan, 2.0, 3.0], dtype='float64')\n",
      "KBA05_SEG9\n",
      "Float64Index([0.0, 1.0, 2.0, nan, 3.0], dtype='float64')\n",
      "KBA05_VORB0\n",
      "Float64Index([3.0, 2.0, 4.0, nan, 1.0, 5.0], dtype='float64')\n",
      "KBA05_VORB1\n",
      "Float64Index([3.0, 2.0, 4.0, nan, 5.0, 1.0], dtype='float64')\n",
      "KBA05_VORB2\n",
      "Float64Index([3.0, 2.0, nan, 4.0, 5.0, 1.0, 0.0], dtype='float64')\n",
      "KBA05_ZUL1\n",
      "Float64Index([3.0, 4.0, 2.0, nan, 1.0, 5.0], dtype='float64')\n",
      "KBA05_ZUL2\n",
      "Float64Index([3.0, 2.0, 4.0, nan, 1.0, 5.0], dtype='float64')\n",
      "KBA05_ZUL3\n",
      "Float64Index([3.0, 2.0, 4.0, nan, 1.0, 0.0, 5.0], dtype='float64')\n",
      "KBA05_ZUL4\n",
      "Float64Index([2.0, 1.0, nan, 3.0, 0.0, 4.0, 5.0], dtype='float64')\n",
      "KBA13_ALTERHALTER_30\n",
      "Float64Index([3.0, 2.0, 4.0, nan, 1.0, 5.0], dtype='float64')\n",
      "KBA13_ALTERHALTER_45\n",
      "Float64Index([3.0, 4.0, 2.0, nan, 5.0, 1.0], dtype='float64')\n",
      "KBA13_ALTERHALTER_60\n",
      "Float64Index([3.0, 2.0, 4.0, nan, 1.0, 5.0], dtype='float64')\n",
      "KBA13_ALTERHALTER_61\n",
      "Float64Index([3.0, 4.0, 2.0, nan, 5.0, 1.0], dtype='float64')\n",
      "KBA13_ANZAHL_PKW\n",
      "Float64Index([   nan, 1400.0, 1500.0, 1300.0, 1600.0, 1700.0, 1800.0,  417.0,\n",
      "               464.0,  519.0,\n",
      "              ...\n",
      "                10.0,   11.0,    9.0,    4.0,    5.0,    3.0,    8.0,    2.0,\n",
      "                 7.0,    6.0],\n",
      "             dtype='float64', length=1262)\n",
      "KBA13_AUDI\n",
      "Float64Index([3.0, 2.0, 4.0, nan, 5.0, 1.0], dtype='float64')\n",
      "KBA13_AUTOQUOTE\n",
      "Float64Index([3.0, 2.0, 4.0, nan, 1.0, 5.0, 0.0], dtype='float64')\n",
      "KBA13_BJ_1999\n",
      "Float64Index([3.0, 2.0, 4.0, nan, 1.0, 5.0], dtype='float64')\n",
      "KBA13_BJ_2000\n",
      "Float64Index([3.0, 2.0, 4.0, nan, 1.0, 5.0], dtype='float64')\n",
      "KBA13_BJ_2004\n",
      "Float64Index([3.0, 2.0, 4.0, nan, 1.0, 5.0], dtype='float64')\n",
      "KBA13_BJ_2006\n",
      "Float64Index([3.0, 2.0, 4.0, nan, 1.0, 5.0], dtype='float64')\n",
      "KBA13_BJ_2008\n",
      "Float64Index([3.0, 2.0, 0.0, nan, 4.0, 5.0, 1.0], dtype='float64')\n",
      "KBA13_BJ_2009\n",
      "Float64Index([3.0, 1.0, 2.0, nan, 0.0, 4.0, 5.0], dtype='float64')\n",
      "KBA13_BMW\n",
      "Float64Index([3.0, 4.0, 2.0, nan, 5.0, 1.0], dtype='float64')\n",
      "KBA13_CCM_0_1400\n",
      "Float64Index([3.0, 2.0, 0.0, nan, 4.0, 1.0, 5.0], dtype='float64')\n",
      "KBA13_CCM_1000\n",
      "Float64Index([3.0, 1.0, 2.0, nan, 0.0, 4.0, 5.0], dtype='float64')\n",
      "KBA13_CCM_1200\n",
      "Float64Index([3.0, 2.0, 0.0, nan, 4.0, 1.0, 5.0], dtype='float64')\n",
      "KBA13_CCM_1400\n",
      "Float64Index([3.0, 2.0, 4.0, nan, 5.0, 1.0], dtype='float64')\n",
      "KBA13_CCM_1500\n",
      "Float64Index([1.0, 4.0, 3.0, nan, 5.0, 2.0], dtype='float64')\n",
      "KBA13_CCM_1600\n",
      "Float64Index([3.0, 2.0, 4.0, nan, 5.0, 1.0], dtype='float64')\n",
      "KBA13_CCM_1800\n",
      "Float64Index([3.0, 2.0, 0.0, nan, 4.0, 5.0, 1.0], dtype='float64')\n",
      "KBA13_CCM_2000\n",
      "Float64Index([3.0, 4.0, 2.0, nan, 5.0, 1.0], dtype='float64')\n",
      "KBA13_CCM_2500\n",
      "Float64Index([3.0, 2.0, nan, 1.0, 0.0, 4.0, 5.0], dtype='float64')\n",
      "KBA13_CCM_2501\n",
      "Float64Index([3.0, 1.0, 2.0, nan, 0.0, 4.0, 5.0], dtype='float64')\n",
      "KBA13_FAB_ASIEN\n",
      "Float64Index([3.0, 2.0, 4.0, nan, 1.0, 5.0], dtype='float64')\n",
      "KBA13_FAB_SONSTIGE\n",
      "Float64Index([3.0, 2.0, 4.0, nan, 5.0, 1.0], dtype='float64')\n",
      "KBA13_FIAT\n",
      "Float64Index([3.0, 4.0, 2.0, nan, 5.0, 1.0], dtype='float64')\n",
      "KBA13_FORD\n",
      "Float64Index([3.0, 2.0, 4.0, nan, 5.0, 1.0], dtype='float64')\n",
      "KBA13_HALTER_20\n",
      "Float64Index([3.0, 2.0, 4.0, nan, 1.0, 5.0], dtype='float64')\n",
      "KBA13_HALTER_25\n",
      "Float64Index([3.0, 2.0, 4.0, nan, 1.0, 5.0], dtype='float64')\n",
      "KBA13_HALTER_30\n",
      "Float64Index([3.0, 2.0, 4.0, nan, 5.0, 1.0], dtype='float64')\n",
      "KBA13_HALTER_35\n",
      "Float64Index([3.0, 4.0, 2.0, nan, 5.0, 1.0], dtype='float64')\n",
      "KBA13_HALTER_40\n",
      "Float64Index([3.0, 4.0, 2.0, nan, 5.0, 1.0], dtype='float64')\n",
      "KBA13_HALTER_45\n",
      "Float64Index([3.0, 4.0, 2.0, nan, 5.0, 1.0], dtype='float64')\n",
      "KBA13_HALTER_50\n",
      "Float64Index([3.0, 2.0, 4.0, nan, 1.0, 5.0], dtype='float64')\n",
      "KBA13_HALTER_55\n",
      "Float64Index([3.0, 2.0, 4.0, nan, 1.0, 5.0], dtype='float64')\n",
      "KBA13_HALTER_60\n",
      "Float64Index([3.0, 2.0, 4.0, nan, 1.0, 5.0], dtype='float64')\n",
      "KBA13_HALTER_65\n",
      "Float64Index([3.0, 4.0, 2.0, nan, 5.0, 1.0], dtype='float64')\n",
      "KBA13_HALTER_66\n",
      "Float64Index([3.0, 4.0, 2.0, nan, 5.0, 1.0], dtype='float64')\n",
      "KBA13_HERST_ASIEN\n",
      "Float64Index([3.0, 2.0, 4.0, nan, 5.0, 1.0], dtype='float64')\n",
      "KBA13_HERST_AUDI_VW\n",
      "Float64Index([3.0, 2.0, 4.0, nan, 1.0, 5.0], dtype='float64')\n",
      "KBA13_HERST_BMW_BENZ\n",
      "Float64Index([3.0, 4.0, 2.0, nan, 5.0, 1.0], dtype='float64')\n",
      "KBA13_HERST_EUROPA\n",
      "Float64Index([3.0, 4.0, 2.0, nan, 5.0, 1.0], dtype='float64')\n",
      "KBA13_HERST_FORD_OPEL\n",
      "Float64Index([3.0, 2.0, 4.0, nan, 1.0, 5.0], dtype='float64')\n",
      "KBA13_HERST_SONST\n",
      "Float64Index([3.0, 2.0, 4.0, nan, 5.0, 1.0], dtype='float64')\n",
      "KBA13_KMH_0_140\n",
      "Float64Index([3.0, 1.0, nan, 0.0, 4.0, 5.0, 2.0], dtype='float64')\n",
      "KBA13_KMH_110\n",
      "Float64Index([1.0, nan, 3.0, 2.0], dtype='float64')\n",
      "KBA13_KMH_140\n",
      "Float64Index([1.0, 4.0, 3.0, nan, 2.0, 5.0], dtype='float64')\n",
      "KBA13_KMH_140_210\n",
      "Float64Index([3.0, 2.0, 4.0, nan, 1.0, 5.0], dtype='float64')\n",
      "KBA13_KMH_180\n",
      "Float64Index([3.0, 2.0, 4.0, nan, 1.0, 5.0], dtype='float64')\n",
      "KBA13_KMH_211\n",
      "Float64Index([3.0, 2.0, 0.0, nan, 4.0, 5.0, 1.0], dtype='float64')\n",
      "KBA13_KMH_250\n",
      "Float64Index([3.0, 2.0, 0.0, nan, 4.0, 5.0, 1.0], dtype='float64')\n",
      "KBA13_KMH_251\n",
      "Float64Index([1.0, nan, 3.0, 2.0], dtype='float64')\n",
      "KBA13_KRSAQUOT\n",
      "Float64Index([3.0, 2.0, 4.0, nan, 1.0, 5.0, 0.0], dtype='float64')\n",
      "KBA13_KRSHERST_AUDI_VW\n",
      "Float64Index([3.0, 2.0, 4.0, nan, 1.0, 5.0, 0.0], dtype='float64')\n",
      "KBA13_KRSHERST_BMW_BENZ\n",
      "Float64Index([3.0, 4.0, 2.0, nan, 5.0, 1.0, 0.0], dtype='float64')\n",
      "KBA13_KRSHERST_FORD_OPEL\n",
      "Float64Index([3.0, 4.0, 2.0, nan, 1.0, 5.0, 0.0], dtype='float64')\n",
      "KBA13_KRSSEG_KLEIN\n",
      "Float64Index([2.0, nan, 1.0, 3.0, 0.0], dtype='float64')\n",
      "KBA13_KRSSEG_OBER\n",
      "Float64Index([2.0, 1.0, 3.0, nan, 0.0], dtype='float64')\n",
      "KBA13_KRSSEG_VAN\n",
      "Float64Index([2.0, 1.0, 3.0, nan, 0.0], dtype='float64')\n",
      "KBA13_KRSZUL_NEU\n",
      "Float64Index([2.0, 1.0, 3.0, nan, 0.0], dtype='float64')\n",
      "KBA13_KW_0_60\n",
      "Float64Index([3.0, 2.0, 4.0, nan, 1.0, 5.0], dtype='float64')\n",
      "KBA13_KW_110\n",
      "Float64Index([3.0, 2.0, 0.0, nan, 4.0, 1.0, 5.0], dtype='float64')\n",
      "KBA13_KW_120\n",
      "Float64Index([3.0, 1.0, nan, 4.0, 0.0, 5.0, 2.0], dtype='float64')\n",
      "KBA13_KW_121\n",
      "Float64Index([3.0, 2.0, nan, 1.0, 0.0, 4.0, 5.0], dtype='float64')\n",
      "KBA13_KW_30\n",
      "Float64Index([1.0, 2.0, nan, 3.0], dtype='float64')\n",
      "KBA13_KW_40\n",
      "Float64Index([3.0, 2.0, 1.0, nan, 0.0, 4.0, 5.0], dtype='float64')\n",
      "KBA13_KW_50\n",
      "Float64Index([3.0, 2.0, 0.0, nan, 4.0, 5.0, 1.0], dtype='float64')\n",
      "KBA13_KW_60\n",
      "Float64Index([3.0, 2.0, 0.0, nan, 1.0, 4.0, 5.0], dtype='float64')\n",
      "KBA13_KW_61_120\n",
      "Float64Index([3.0, 2.0, 4.0, nan, 5.0, 1.0], dtype='float64')\n",
      "KBA13_KW_70\n",
      "Float64Index([3.0, 2.0, 0.0, nan, 4.0, 5.0, 1.0], dtype='float64')\n",
      "KBA13_KW_80\n",
      "Float64Index([3.0, 2.0, 0.0, nan, 4.0, 1.0, 5.0], dtype='float64')\n",
      "KBA13_KW_90\n",
      "Float64Index([3.0, 2.0, 0.0, nan, 4.0, 5.0, 1.0], dtype='float64')\n",
      "KBA13_MAZDA\n",
      "Float64Index([3.0, 4.0, 2.0, nan, 5.0, 1.0], dtype='float64')\n",
      "KBA13_MERCEDES\n",
      "Float64Index([3.0, 4.0, 2.0, nan, 5.0, 1.0], dtype='float64')\n",
      "KBA13_MOTOR\n",
      "Float64Index([3.0, 2.0, nan, 4.0, 1.0], dtype='float64')\n",
      "KBA13_NISSAN\n",
      "Float64Index([3.0, 4.0, 2.0, nan, 5.0, 1.0], dtype='float64')\n",
      "KBA13_OPEL\n"
     ]
    },
    {
     "name": "stdout",
     "output_type": "stream",
     "text": [
      "Float64Index([3.0, 2.0, 4.0, nan, 1.0, 5.0], dtype='float64')\n",
      "KBA13_PEUGEOT\n",
      "Float64Index([3.0, 4.0, 2.0, nan, 5.0, 1.0], dtype='float64')\n",
      "KBA13_RENAULT\n",
      "Float64Index([3.0, 4.0, 2.0, nan, 5.0, 1.0], dtype='float64')\n",
      "KBA13_SEG_GELAENDEWAGEN\n",
      "Float64Index([3.0, 2.0, 4.0, nan, 1.0, 5.0], dtype='float64')\n",
      "KBA13_SEG_GROSSRAUMVANS\n",
      "Float64Index([3.0, 4.0, 2.0, nan, 5.0, 1.0], dtype='float64')\n",
      "KBA13_SEG_KLEINST\n",
      "Float64Index([3.0, 2.0, 4.0, nan, 1.0, 5.0], dtype='float64')\n",
      "KBA13_SEG_KLEINWAGEN\n",
      "Float64Index([3.0, 2.0, 4.0, nan, 1.0, 5.0], dtype='float64')\n",
      "KBA13_SEG_KOMPAKTKLASSE\n",
      "Float64Index([3.0, 2.0, 4.0, nan, 1.0, 5.0], dtype='float64')\n",
      "KBA13_SEG_MINIVANS\n",
      "Float64Index([3.0, 2.0, 4.0, nan, 5.0, 1.0], dtype='float64')\n",
      "KBA13_SEG_MINIWAGEN\n",
      "Float64Index([3.0, 4.0, 2.0, nan, 5.0, 1.0], dtype='float64')\n",
      "KBA13_SEG_MITTELKLASSE\n",
      "Float64Index([3.0, 4.0, 2.0, nan, 5.0, 1.0], dtype='float64')\n",
      "KBA13_SEG_OBEREMITTELKLASSE\n",
      "Float64Index([3.0, 4.0, 2.0, nan, 5.0, 1.0], dtype='float64')\n",
      "KBA13_SEG_OBERKLASSE\n",
      "Float64Index([3.0, 1.0, nan, 4.0, 0.0, 5.0, 2.0], dtype='float64')\n",
      "KBA13_SEG_SONSTIGE\n",
      "Float64Index([3.0, 2.0, 4.0, nan, 5.0, 1.0], dtype='float64')\n",
      "KBA13_SEG_SPORTWAGEN\n",
      "Float64Index([3.0, 2.0, 1.0, nan, 4.0, 5.0, 0.0], dtype='float64')\n",
      "KBA13_SEG_UTILITIES\n",
      "Float64Index([3.0, 2.0, 4.0, nan, 5.0, 1.0], dtype='float64')\n",
      "KBA13_SEG_VAN\n",
      "Float64Index([3.0, 4.0, 2.0, nan, 5.0, 1.0], dtype='float64')\n",
      "KBA13_SEG_WOHNMOBILE\n",
      "Float64Index([3.0, 2.0, nan, 1.0, 4.0, 0.0, 5.0], dtype='float64')\n",
      "KBA13_SITZE_4\n",
      "Float64Index([3.0, 4.0, 2.0, nan, 5.0, 1.0], dtype='float64')\n",
      "KBA13_SITZE_5\n",
      "Float64Index([3.0, 2.0, 4.0, nan, 1.0, 5.0], dtype='float64')\n",
      "KBA13_SITZE_6\n",
      "Float64Index([3.0, 4.0, 2.0, nan, 5.0, 1.0], dtype='float64')\n",
      "KBA13_TOYOTA\n",
      "Float64Index([3.0, 4.0, 2.0, nan, 5.0, 1.0], dtype='float64')\n",
      "KBA13_VORB_0\n",
      "Float64Index([3.0, 4.0, 2.0, nan, 5.0, 1.0], dtype='float64')\n",
      "KBA13_VORB_1\n",
      "Float64Index([3.0, 2.0, 4.0, nan, 1.0, 5.0], dtype='float64')\n",
      "KBA13_VORB_1_2\n",
      "Float64Index([3.0, 2.0, 4.0, nan, 1.0, 5.0], dtype='float64')\n",
      "KBA13_VORB_2\n",
      "Float64Index([3.0, 2.0, 4.0, nan, 5.0, 1.0], dtype='float64')\n",
      "KBA13_VORB_3\n",
      "Float64Index([3.0, 2.0, 0.0, nan, 4.0, 5.0, 1.0], dtype='float64')\n",
      "KBA13_VW\n",
      "Float64Index([3.0, 2.0, 4.0, nan, 1.0, 5.0], dtype='float64')\n",
      "KKK\n",
      "Float64Index([3.0, 2.0, 4.0, nan, 1.0], dtype='float64')\n",
      "KONSUMNAEHE\n",
      "Float64Index([1.0, 3.0, 5.0, 2.0, 4.0, nan, 6.0, 7.0], dtype='float64')\n",
      "LP_FAMILIE_FEIN\n",
      "Float64Index([1.0, 10.0, 2.0, 0.0, 11.0, 8.0, 7.0, 4.0, 5.0, 9.0, 6.0, 3.0,\n",
      "              nan],\n",
      "             dtype='float64')\n",
      "LP_FAMILIE_GROB\n",
      "Float64Index([1.0, 5.0, 2.0, 0.0, 4.0, 3.0, nan], dtype='float64')\n",
      "LP_LEBENSPHASE_FEIN\n",
      "Float64Index([ 0.0,  1.0,  5.0,  6.0,  2.0,  8.0, 11.0, 29.0,  7.0, 13.0, 10.0,\n",
      "              31.0, 12.0, 30.0, 15.0,  3.0, 19.0, 37.0,  4.0, 14.0, 20.0, 32.0,\n",
      "              39.0, 40.0, 27.0, 16.0, 38.0, 35.0, 34.0,  9.0, 21.0, 28.0, 24.0,\n",
      "              36.0, 25.0, 23.0, 22.0, 18.0, 33.0, 17.0,  nan, 26.0],\n",
      "             dtype='float64')\n",
      "LP_LEBENSPHASE_GROB\n",
      "Float64Index([2.0, 1.0, 3.0, 0.0, 12.0, 4.0, 5.0, 9.0, 10.0, 11.0, 8.0, 6.0,\n",
      "              7.0, nan],\n",
      "             dtype='float64')\n",
      "LP_STATUS_FEIN\n",
      "Float64Index([1.0, 9.0, 2.0, 10.0, 4.0, 5.0, 3.0, 6.0, 8.0, 7.0, nan], dtype='float64')\n",
      "LP_STATUS_GROB\n",
      "Float64Index([1.0, 2.0, 4.0, 5.0, 3.0, nan], dtype='float64')\n",
      "MIN_GEBAEUDEJAHR\n",
      "Float64Index([1992.0,    nan, 1994.0, 1993.0, 1995.0, 1996.0, 1997.0, 2000.0,\n",
      "              2001.0, 1991.0, 2005.0, 1999.0, 1990.0, 2002.0, 1998.0, 2003.0,\n",
      "              2004.0, 2008.0, 2007.0, 1989.0, 2009.0, 2006.0, 2011.0, 2012.0,\n",
      "              2010.0, 2013.0, 1988.0, 2014.0, 2015.0, 1987.0, 2016.0, 1986.0,\n",
      "              1985.0],\n",
      "             dtype='float64')\n",
      "MOBI_REGIO\n",
      "Float64Index([1.0, 3.0, 5.0, 4.0, 2.0, nan, 6.0], dtype='float64')\n",
      "NATIONALITAET_KZ\n",
      "Float64Index([1.0, nan, 2.0, 3.0], dtype='float64')\n",
      "ONLINE_AFFINITAET\n",
      "Float64Index([2.0, 4.0, 3.0, 1.0, 5.0, 0.0, nan], dtype='float64')\n",
      "ORTSGR_KLS9\n",
      "Float64Index([5.0, 4.0, 7.0, nan, 9.0, 3.0, 6.0, 8.0, 2.0, 1.0, 0.0], dtype='float64')\n",
      "OST_WEST_KZ\n",
      "Index(['W', 'O', nan], dtype='object')\n",
      "PLZ8_ANTG1\n",
      "Float64Index([2.0, 3.0, 1.0, nan, 4.0, 0.0], dtype='float64')\n",
      "PLZ8_ANTG2\n",
      "Float64Index([3.0, 2.0, 4.0, nan, 1.0, 0.0], dtype='float64')\n",
      "PLZ8_ANTG3\n",
      "Float64Index([2.0, 1.0, 3.0, 0.0, nan], dtype='float64')\n",
      "PLZ8_ANTG4\n",
      "Float64Index([0.0, 1.0, 2.0, nan], dtype='float64')\n",
      "PLZ8_BAUMAX\n",
      "Float64Index([1.0, nan, 5.0, 2.0, 4.0, 3.0], dtype='float64')\n",
      "PLZ8_GBZ\n",
      "Float64Index([3.0, 4.0, 5.0, nan, 2.0, 1.0], dtype='float64')\n",
      "PLZ8_HHZ\n",
      "Float64Index([3.0, 4.0, 5.0, nan, 2.0, 1.0], dtype='float64')\n",
      "PRAEGENDE_JUGENDJAHRE\n",
      "Float64Index([14.0,  8.0,  nan,  5.0, 10.0,  3.0, 15.0, 11.0,  9.0,  6.0, 12.0,\n",
      "               1.0,  4.0,  2.0, 13.0,  7.0],\n",
      "             dtype='float64')\n",
      "REGIOTYP\n",
      "Float64Index([6.0, nan, 5.0, 3.0, 2.0, 7.0, 4.0, 1.0], dtype='float64')\n",
      "RELAT_AB\n",
      "Float64Index([3.0, 5.0, 1.0, 2.0, nan, 4.0, 9.0], dtype='float64')\n",
      "RETOURTYP_BK_S\n",
      "Float64Index([5.0, 3.0, 4.0, 1.0, 2.0, nan], dtype='float64')\n",
      "SEMIO_DOM\n",
      "Int64Index([6, 5, 7, 4, 2, 3, 1], dtype='int64')\n",
      "SEMIO_ERL\n",
      "Int64Index([4, 3, 7, 6, 2, 5, 1], dtype='int64')\n",
      "SEMIO_FAM\n",
      "Int64Index([6, 2, 4, 5, 7, 3, 1], dtype='int64')\n",
      "SEMIO_KAEM\n",
      "Int64Index([6, 3, 7, 5, 2, 4, 1], dtype='int64')\n",
      "SEMIO_KRIT\n",
      "Int64Index([7, 5, 4, 6, 3, 1, 2], dtype='int64')\n",
      "SEMIO_KULT\n",
      "Int64Index([3, 5, 1, 7, 4, 6, 2], dtype='int64')\n",
      "SEMIO_LUST\n",
      "Int64Index([5, 6, 7, 2, 1, 4, 3], dtype='int64')\n",
      "SEMIO_MAT\n",
      "Int64Index([5, 4, 2, 3, 7, 1, 6], dtype='int64')\n",
      "SEMIO_PFLICHT\n",
      "Int64Index([5, 4, 3, 7, 6, 2, 1], dtype='int64')\n",
      "SEMIO_RAT\n",
      "Int64Index([4, 2, 3, 5, 7, 6, 1], dtype='int64')\n",
      "SEMIO_REL\n",
      "Int64Index([7, 4, 3, 1, 5, 2, 6], dtype='int64')\n",
      "SEMIO_SOZ\n",
      "Int64Index([2, 6, 5, 3, 7, 4, 1], dtype='int64')\n",
      "SEMIO_TRADV\n",
      "Int64Index([3, 4, 2, 5, 1, 7, 6], dtype='int64')\n",
      "SEMIO_VERT\n",
      "Int64Index([2, 6, 5, 7, 4, 1, 3], dtype='int64')\n",
      "SHOPPER_TYP\n",
      "Float64Index([1.0, 2.0, 3.0, 0.0, nan], dtype='float64')\n",
      "TITEL_KZ\n",
      "Float64Index([nan, 1.0, 5.0, 4.0, 3.0, 2.0], dtype='float64')\n",
      "VERS_TYP\n",
      "Float64Index([2.0, 1.0, nan], dtype='float64')\n",
      "W_KEIT_KIND_HH\n",
      "Float64Index([6.0, nan, 4.0, 3.0, 2.0, 1.0, 5.0], dtype='float64')\n",
      "WOHNDAUER_2008\n",
      "Float64Index([9.0, 8.0, nan, 4.0, 3.0, 6.0, 5.0, 7.0, 2.0, 1.0], dtype='float64')\n",
      "WOHNLAGE\n",
      "Float64Index([3.0, 7.0, 4.0, 2.0, nan, 5.0, 1.0, 8.0, 0.0], dtype='float64')\n",
      "ZABEOTYP\n",
      "Int64Index([3, 4, 1, 5, 6, 2], dtype='int64')\n",
      "ANREDE_KZ\n",
      "Int64Index([2, 1], dtype='int64')\n",
      "ALTERSKATEGORIE_GROB\n",
      "Int64Index([3, 4, 2, 1, 9], dtype='int64')\n"
     ]
    }
   ],
   "source": [
    "# Analyzing the presence of other strange values in the dataset\n",
    "dif_values = []\n",
    "for column in azdias.columns:\n",
    "    print(column)\n",
    "    #print(df[column].value_counts(dropna=False))\n",
    "    print(azdias[column].value_counts(dropna=False).index)\n",
    "    dif_values.append(azdias[column].value_counts(dropna=False).index.values)\n",
    "\n",
    "# 1. This shows the existence of \"X\" values in column CAMEO_DUG_2015 \n",
    "# 2. There are also 'XX' in column CAMEO_DEU_2015\n",
    "# 3. There are mixed datatype in columns (ints with floats or str with integers)\n",
    "\n"
   ]
  },
  {
   "cell_type": "code",
   "execution_count": 16,
   "metadata": {},
   "outputs": [
    {
     "name": "stdout",
     "output_type": "stream",
     "text": [
      "373\n",
      "0\n",
      "373\n",
      "0\n"
     ]
    }
   ],
   "source": [
    "# Cleaning of \n",
    "print(sum(azdias['CAMEO_DEUG_2015']=='X')) #Number of 'X' in CAMEO_DEUG_2015\n",
    "azdias['CAMEO_DEUG_2015'].replace('X',np.nan, inplace = True)\n",
    "print(sum(azdias['CAMEO_DEUG_2015']=='X'))\n",
    "\n",
    "print(sum(azdias['CAMEO_DEU_2015']=='XX')) #Number of 'XX' in CAMEO_DEU_2015\n",
    "azdias['CAMEO_DEU_2015'].replace('XX',np.nan, inplace = True)\n",
    "print(sum(azdias['CAMEO_DEU_2015']=='XX'))\n",
    "\n",
    "\n",
    "\n",
    "\n",
    "\n"
   ]
  },
  {
   "cell_type": "code",
   "execution_count": 17,
   "metadata": {},
   "outputs": [
    {
     "data": {
      "text/plain": [
       "True"
      ]
     },
     "execution_count": 17,
     "metadata": {},
     "output_type": "execute_result"
    }
   ],
   "source": [
    "'CAMEO_DEUG_2015' in customers.columns"
   ]
  },
  {
   "cell_type": "code",
   "execution_count": 18,
   "metadata": {},
   "outputs": [
    {
     "name": "stdout",
     "output_type": "stream",
     "text": [
      "float64    220\n",
      "int64       51\n",
      "object       3\n",
      "dtype: int64\n"
     ]
    },
    {
     "data": {
      "text/plain": [
       "Index(['CAMEO_DEU_2015', 'CAMEO_DEUG_2015', 'OST_WEST_KZ'], dtype='object')"
      ]
     },
     "execution_count": 18,
     "metadata": {},
     "output_type": "execute_result"
    }
   ],
   "source": [
    "# Checking datatypes and converting ints to float \n",
    "print(azdias.dtypes.value_counts()) #220 float, 51 int and 3 object\n",
    "azdias.columns[azdias.dtypes == 'object']"
   ]
  },
  {
   "cell_type": "code",
   "execution_count": 19,
   "metadata": {},
   "outputs": [],
   "source": [
    "#Converting int columns to float: \n",
    "\n",
    "for col in azdias.columns:\n",
    "    if azdias[col].dtypes == 'int64':\n",
    "        azdias[col] = azdias[col].astype(float)\n",
    "        \n",
    "\n",
    "        "
   ]
  },
  {
   "cell_type": "code",
   "execution_count": 20,
   "metadata": {},
   "outputs": [
    {
     "name": "stdout",
     "output_type": "stream",
     "text": [
      "Index(['CAMEO_DEU_2015', 'CAMEO_DEUG_2015', 'OST_WEST_KZ'], dtype='object')\n",
      "Column CAMEO_DEU_2015 has 44 different values\n",
      "Column CAMEO_DEUG_2015 has 18 different values\n",
      "Column OST_WEST_KZ has 2 different values\n"
     ]
    }
   ],
   "source": [
    "#Checking the columns with type 'object'\n",
    "\n",
    "object_cols = azdias.loc[:,azdias.dtypes=='object'].columns\n",
    "print(object_cols) #CAMEO_DEU_2015, CAMEO_DEUG_2015 & OST_WEST_KZ\n",
    "\n",
    "\n",
    "for col in object_cols:\n",
    "    print(f'Column {col} has {azdias[col].nunique()} different values')\n",
    "\n",
    "# Considering the step of OneHotEncoding I'll drop the first two columns due to a high number of categories\n",
    "\n",
    "azdias.drop(columns = ['CAMEO_DEU_2015','CAMEO_DEUG_2015'], inplace = True)\n",
    "\n"
   ]
  },
  {
   "cell_type": "code",
   "execution_count": 21,
   "metadata": {},
   "outputs": [
    {
     "data": {
      "text/plain": [
       "1.0    629528\n",
       "0.0    168545\n",
       "Name: OST_WEST_KZ, dtype: int64"
      ]
     },
     "execution_count": 21,
     "metadata": {},
     "output_type": "execute_result"
    }
   ],
   "source": [
    "#Encoding OST_WEST_KZ\n",
    "\n",
    "azdias['OST_WEST_KZ'].value_counts()\n",
    "azdias['OST_WEST_KZ'] = azdias['OST_WEST_KZ'].map({'W': 1, 'O': 0})\n",
    "azdias['OST_WEST_KZ'].value_counts()\n",
    "\n"
   ]
  },
  {
   "cell_type": "code",
   "execution_count": 22,
   "metadata": {},
   "outputs": [
    {
     "data": {
      "image/png": "[encoded data removed]",
      "text/plain": [
       "<Figure size 1440x720 with 1 Axes>"
      ]
     },
     "metadata": {
      "needs_background": "light"
     },
     "output_type": "display_data"
    }
   ],
   "source": [
    "# Analyzing columns with high percentage of missing values\n",
    "\n",
    "percent_mv = (azdias.isnull().sum() * 100 / len(azdias)).sort_values(ascending = False)\n",
    "\n",
    "plt.figure(figsize = (20,10))\n",
    "plt.axhline(y=20, color='r', linestyle='--')\n",
    "\n",
    "sns.barplot(percent_mv.nlargest(30).index, percent_mv.nlargest(30).values, palette='PuBu_r')\n",
    "plt.tick_params(axis='x', rotation=90)\n",
    "\n",
    "cols_high_mv = percent_mv[percent_mv >= 20].index\n",
    "\n"
   ]
  },
  {
   "cell_type": "code",
   "execution_count": 23,
   "metadata": {},
   "outputs": [
    {
     "name": "stdout",
     "output_type": "stream",
     "text": [
      "272\n",
      "264\n"
     ]
    }
   ],
   "source": [
    "# Deleting columns with high percentage of missing values\n",
    "print(len(azdias.columns))\n",
    "azdias.drop(columns = cols_high_mv, inplace=True)\n",
    "print(len(azdias.columns))"
   ]
  },
  {
   "cell_type": "code",
   "execution_count": 24,
   "metadata": {},
   "outputs": [
    {
     "name": "stdout",
     "output_type": "stream",
     "text": [
      "Int64Index([     0,     11,     14,     15,     17,     20,     23,     24,\n",
      "                26,     30,\n",
      "            ...\n",
      "            891154, 891159, 891164, 891170, 891171, 891172, 891173, 891175,\n",
      "            891185, 891187],\n",
      "           dtype='int64', length=105863)\n"
     ]
    },
    {
     "data": {
      "image/png": "[encoded data removed]",
      "text/plain": [
       "<Figure size 1440x720 with 1 Axes>"
      ]
     },
     "metadata": {
      "needs_background": "light"
     },
     "output_type": "display_data"
    }
   ],
   "source": [
    "# Analyzing rows with high percentage of missing values\n",
    "\n",
    "percent_mv_row = (azdias.isnull().sum(axis=1) * 100 / len(azdias.columns))\n",
    "\n",
    "percent_mv_row.values\n",
    "plt.figure(figsize = (20,10))\n",
    "plt.axhline(y=20, color='r', linestyle='--')\n",
    "\n",
    "\n",
    "percent_mv_row.hist(bins=30) #This show a significant number of rows with more than 30% of missing values \n",
    "\n",
    "rows_high_mv = percent_mv_row[percent_mv_row >= 30].index\n",
    "print(rows_high_mv)\n",
    "\n",
    "\n"
   ]
  },
  {
   "cell_type": "code",
   "execution_count": 25,
   "metadata": {},
   "outputs": [
    {
     "name": "stdout",
     "output_type": "stream",
     "text": [
      "891221\n",
      "785358\n"
     ]
    }
   ],
   "source": [
    "# Drop rows with more than 30% of missing values\n",
    "\n",
    "print(len(azdias))\n",
    "azdias.drop(index = rows_high_mv, inplace = True)\n",
    "print(len(azdias))"
   ]
  },
  {
   "cell_type": "code",
   "execution_count": 26,
   "metadata": {},
   "outputs": [],
   "source": [
    "# Imputation of missing values with the median \n",
    "\n",
    "from sklearn.impute import SimpleImputer\n",
    "\n",
    "imp_median = SimpleImputer(missing_values = np.nan, strategy = 'median')\n",
    "\n",
    "azdias_imputed = imp_median.fit_transform(azdias.values)\n",
    "\n",
    "\n"
   ]
  },
  {
   "cell_type": "code",
   "execution_count": 27,
   "metadata": {},
   "outputs": [],
   "source": [
    "# Scaling \n",
    "\n",
    "from sklearn.preprocessing import StandardScaler\n",
    "\n",
    "scaler = StandardScaler()\n",
    "azdias_scaled = scaler.fit_transform(azdias_imputed)\n"
   ]
  },
  {
   "cell_type": "code",
   "execution_count": 28,
   "metadata": {},
   "outputs": [],
   "source": [
    "# PCA AZDIAS\n",
    "\n",
    "from sklearn.decomposition import PCA\n",
    "\n",
    "pca = PCA()\n",
    "\n",
    "azdias_pca = pca.fit_transform(azdias_scaled)\n",
    "\n"
   ]
  },
  {
   "cell_type": "code",
   "execution_count": 29,
   "metadata": {},
   "outputs": [
    {
     "data": {
      "image/png": "[encoded data removed]",
      "text/plain": [
       "<Figure size 432x288 with 1 Axes>"
      ]
     },
     "metadata": {
      "needs_background": "light"
     },
     "output_type": "display_data"
    }
   ],
   "source": [
    "data = np.cumsum(pca.explained_variance_ratio_)\n",
    "plt.plot(np.cumsum(pca.explained_variance_ratio_))\n",
    "\n",
    "plt.title('Explained Variance by Each Principal Component - Scree Plot (AZDIAS)')\n",
    "plt.xlabel('Number of Components')\n",
    "plt.ylabel('Cumulative Explained Variance')\n",
    "\n",
    "plt.show()"
   ]
  },
  {
   "cell_type": "code",
   "execution_count": 30,
   "metadata": {},
   "outputs": [],
   "source": [
    "# Creating a cleaning function \n",
    "\n",
    "def all_preprocessing(df, described_atributes,coded_mv, cols_high_mv):\n",
    "    \n",
    "    \"\"\"\n",
    "    Returns a cleaned dataframe\n",
    "    \n",
    "    INPUT:\n",
    "    \n",
    "    RETURN:\n",
    "    dataframe \n",
    "    \"\"\"\n",
    "    \n",
    "    # 1. Deleting extra columns:\n",
    "    extra_cols = ['PRODUCT_GROUP', 'CUSTOMER_GROUP', 'ONLINE_PURCHASE']\n",
    "    df.drop(columns = extra_cols, inplace = True)\n",
    "    \n",
    "    \n",
    "    # 2. Deleting non described columns:\n",
    "    non_described_cols = set(df.columns)-set(described_atributes)\n",
    "    df.drop(columns = non_described_cols, inplace = True)\n",
    "    \n",
    "    \n",
    "    # 3. Replacing documented missing values:\n",
    "    \n",
    "    for j in set(coded_mv['Replace_Type']):\n",
    "        #print(j)\n",
    "        cols_replace = set(coded_mv[coded_mv['Replace_Type']==j]['Attribute']).intersection(set(df.columns))\n",
    "        for column in cols_replace:\n",
    "            if j in ('A','C','D','E'):\n",
    "                df[column] = df[column].replace(-1,np.nan)\n",
    "            if j in ('B','D'):\n",
    "                df[column] = df[column].replace(0,np.nan)\n",
    "            if j in ('E'):\n",
    "                df[column] = df[column].replace(9,np.nan)\n",
    "    \n",
    "    \n",
    "    # 4. Cleaning 'X' and 'XX' values\n",
    "    \n",
    "    if 'CAMEO_DEUG_2015' in df.columns:\n",
    "        df['CAMEO_DEUG_2015'].replace('X',np.nan, inplace = True)\n",
    "        \n",
    "    if 'CAMEO_DEU_2015' in df.columns:\n",
    "        df['CAMEO_DEU_2015'].replace('XX',np.nan, inplace = True)\n",
    "    \n",
    "    \n",
    "    # 5. Converting columns with datatype \"int\" to \"float\"\n",
    "    for col in df.columns:\n",
    "        if df[col].dtypes == 'int64':\n",
    "            df[col] = df[col].astype(float)\n",
    "        \n",
    "    # 6. Temporal. Dropping 'CAMEO_DEU_2015' & 'CAMEO_DEUG_2015'\n",
    "    \n",
    "    df.drop(columns = ['CAMEO_DEU_2015','CAMEO_DEUG_2015'], inplace = True)\n",
    "    \n",
    "    \n",
    "    # 7. Mapping OST_WEST\n",
    "    \n",
    "    df['OST_WEST_KZ'] = df['OST_WEST_KZ'].map({'W': 1, 'O': 0})\n",
    "    \n",
    "    # 8. Deleting columns with high percentage of missing values\n",
    "    \n",
    "    df.drop(columns = cols_high_mv, inplace = True)\n",
    "    \n",
    "    # 9. Deleting rows with high percentage of missing values\n",
    "    \n",
    "    percent_mv_row = (df.isnull().sum(axis=1) * 100 / len(df.columns))\n",
    "    rows_high_mv = percent_mv_row[percent_mv_row >= 30].index\n",
    "    df.drop(index = rows_high_mv, inplace = True)\n",
    "    \n",
    "    # 10. Imputation of missing values\n",
    "    \n",
    "    imp_median = SimpleImputer(missing_values = np.nan, strategy = 'median')\n",
    "    df_clean = pd.DataFrame(imp_median.fit_transform(df.values))\n",
    "    df_clean.columns = df.columns\n",
    "    df_clean.index = df.index\n",
    "    \n",
    "    \n",
    "    \n",
    "    \n",
    "    \n",
    "    return df_clean\n",
    "    \n",
    "    "
   ]
  },
  {
   "cell_type": "code",
   "execution_count": 31,
   "metadata": {},
   "outputs": [],
   "source": [
    "\n",
    "customer_clean = all_preprocessing(customers, described_attributes,coded_mv, cols_high_mv)\n",
    "\n"
   ]
  },
  {
   "cell_type": "code",
   "execution_count": 32,
   "metadata": {},
   "outputs": [
    {
     "data": {
      "text/plain": [
       "(785358, 150)"
      ]
     },
     "execution_count": 32,
     "metadata": {},
     "output_type": "execute_result"
    }
   ],
   "source": [
    "azdias_pca.shape\n",
    "azdias_pca[:,0:150].shape"
   ]
  },
  {
   "cell_type": "code",
   "execution_count": 33,
   "metadata": {},
   "outputs": [
    {
     "name": "stdout",
     "output_type": "stream",
     "text": [
      "set()\n"
     ]
    },
    {
     "data": {
      "text/plain": [
       "(785358, 264)"
      ]
     },
     "execution_count": 33,
     "metadata": {},
     "output_type": "execute_result"
    }
   ],
   "source": [
    "# Comparing columns in azdias and customers\n",
    "\n",
    "print(set(azdias.columns) - set(customer_clean.columns))\n",
    "\n",
    "# Both dataset has the same column\n",
    "azdias.shape"
   ]
  },
  {
   "cell_type": "code",
   "execution_count": 34,
   "metadata": {},
   "outputs": [],
   "source": [
    "scaler = StandardScaler()\n",
    "customers_scaled = scaler.fit_transform(customer_clean)\n",
    "pca = PCA()\n",
    "customers_pca = pca.fit_transform(azdias_scaled)"
   ]
  },
  {
   "cell_type": "code",
   "execution_count": 42,
   "metadata": {},
   "outputs": [
    {
     "data": {
      "image/png": "[encoded data removed]",
      "text/plain": [
       "<Figure size 432x288 with 1 Axes>"
      ]
     },
     "metadata": {
      "needs_background": "light"
     },
     "output_type": "display_data"
    }
   ],
   "source": [
    "# K-MEANS\n",
    "from sklearn.cluster import KMeans\n",
    "# limiting the range of clusters due to a high time of processing\n",
    "n_clusters = [2,5,8,11,14,17,20]\n",
    "\n",
    "def multiple_kmeans(data,n_clusters):\n",
    "    wcss = []\n",
    "    for i in n_clusters:\n",
    "        print(f'K-means for {i} clusters')\n",
    "        kmeans = KMeans(n_clusters=i, init='k-means++', max_iter=100, n_init=3, random_state=0)\n",
    "        kmeans.fit(data)\n",
    "        wcss.append(kmeans.inertia_)\n",
    "    return wcss\n",
    "\n",
    "#wcss = multiple_kmeans(customers_pca[:,0:150],n_clusters)\n",
    "\n",
    "    \n",
    "\n",
    "# Store data \n",
    "#with open('wcss.pickle', 'wb') as handle:\n",
    "#    pickle.dump(wcss, handle, protocol=pickle.HIGHEST_PROTOCOL)\n",
    "\n",
    "# Load data \n",
    "with open('wcss.pickle', 'rb') as handle:\n",
    "    wcss = pickle.load(handle)\n",
    "    \n",
    "\n",
    "plt.plot(n_clusters, wcss,marker = 'o')\n",
    "plt.title('Elbow Method')\n",
    "plt.xlabel('Number of clusters')\n",
    "plt.ylabel('WCSS')\n",
    "plt.show()"
   ]
  },
  {
   "cell_type": "markdown",
   "metadata": {},
   "source": [
    "## Pendientes\n",
    "\n",
    "1. Encontrar el numero optimo de clusters\n",
    "2. "
   ]
  },
  {
   "cell_type": "code",
   "execution_count": 41,
   "metadata": {},
   "outputs": [
    {
     "data": {
      "text/plain": [
       "array(['ANZ_HAUSHALTE_AKTIV', 'ANZ_HH_TITEL', 'ANZ_PERSONEN', 'ANZ_TITEL',\n",
       "       'ARBEIT', 'BALLRAUM', 'CJT_GESAMTTYP', 'D19_BANKEN_ANZ_12',\n",
       "       'D19_BANKEN_ANZ_24', 'D19_BANKEN_DATUM',\n",
       "       'D19_BANKEN_OFFLINE_DATUM', 'D19_BANKEN_ONLINE_DATUM',\n",
       "       'D19_GESAMT_ANZ_12', 'D19_GESAMT_ANZ_24', 'D19_GESAMT_DATUM',\n",
       "       'D19_GESAMT_OFFLINE_DATUM', 'D19_GESAMT_ONLINE_DATUM',\n",
       "       'D19_TELKO_ANZ_12', 'D19_TELKO_ANZ_24', 'D19_TELKO_DATUM',\n",
       "       'D19_TELKO_OFFLINE_DATUM', 'D19_TELKO_ONLINE_DATUM',\n",
       "       'D19_VERSAND_ANZ_12', 'D19_VERSAND_ANZ_24', 'D19_VERSAND_DATUM',\n",
       "       'D19_VERSAND_OFFLINE_DATUM', 'D19_VERSAND_ONLINE_DATUM',\n",
       "       'D19_VERSI_ANZ_12', 'D19_VERSI_ANZ_24', 'D19_VERSI_DATUM',\n",
       "       'D19_VERSI_OFFLINE_DATUM', 'D19_VERSI_ONLINE_DATUM', 'EWDICHTE',\n",
       "       'FINANZ_ANLEGER', 'FINANZ_HAUSBAUER', 'FINANZ_MINIMALIST',\n",
       "       'FINANZ_SPARER', 'FINANZ_UNAUFFAELLIGER', 'FINANZ_VORSORGER',\n",
       "       'FINANZTYP', 'GEBAEUDETYP', 'GEBAEUDETYP_RASTER', 'GEBURTSJAHR',\n",
       "       'GFK_URLAUBERTYP', 'GREEN_AVANTGARDE', 'HEALTH_TYP',\n",
       "       'HH_EINKOMMEN_SCORE', 'INNENSTADT', 'KBA05_ALTER1', 'KBA05_ALTER2',\n",
       "       'KBA05_ALTER3', 'KBA05_ALTER4', 'KBA05_ANHANG', 'KBA05_ANTG1',\n",
       "       'KBA05_ANTG2', 'KBA05_ANTG3', 'KBA05_ANTG4', 'KBA05_AUTOQUOT',\n",
       "       'KBA05_CCM1', 'KBA05_CCM2', 'KBA05_CCM3', 'KBA05_CCM4',\n",
       "       'KBA05_DIESEL', 'KBA05_FRAU', 'KBA05_GBZ', 'KBA05_HERST1',\n",
       "       'KBA05_HERST2', 'KBA05_HERST3', 'KBA05_HERST4', 'KBA05_HERST5',\n",
       "       'KBA05_HERSTTEMP', 'KBA05_KRSAQUOT', 'KBA05_KRSHERST1',\n",
       "       'KBA05_KRSHERST2', 'KBA05_KRSHERST3', 'KBA05_KRSKLEIN',\n",
       "       'KBA05_KRSOBER', 'KBA05_KRSVAN', 'KBA05_KRSZUL', 'KBA05_KW1',\n",
       "       'KBA05_KW2', 'KBA05_KW3', 'KBA05_MAXAH', 'KBA05_MAXBJ',\n",
       "       'KBA05_MAXHERST', 'KBA05_MAXSEG', 'KBA05_MAXVORB', 'KBA05_MOD1',\n",
       "       'KBA05_MOD2', 'KBA05_MOD3', 'KBA05_MOD4', 'KBA05_MOD8',\n",
       "       'KBA05_MODTEMP', 'KBA05_MOTOR', 'KBA05_MOTRAD', 'KBA05_SEG1',\n",
       "       'KBA05_SEG10', 'KBA05_SEG2', 'KBA05_SEG3', 'KBA05_SEG4',\n",
       "       'KBA05_SEG5', 'KBA05_SEG6', 'KBA05_SEG7', 'KBA05_SEG8',\n",
       "       'KBA05_SEG9', 'KBA05_VORB0', 'KBA05_VORB1', 'KBA05_VORB2',\n",
       "       'KBA05_ZUL1', 'KBA05_ZUL2', 'KBA05_ZUL3', 'KBA05_ZUL4',\n",
       "       'KBA13_ALTERHALTER_30', 'KBA13_ALTERHALTER_45',\n",
       "       'KBA13_ALTERHALTER_60', 'KBA13_ALTERHALTER_61', 'KBA13_ANZAHL_PKW',\n",
       "       'KBA13_AUDI', 'KBA13_AUTOQUOTE', 'KBA13_BJ_1999', 'KBA13_BJ_2000',\n",
       "       'KBA13_BJ_2004', 'KBA13_BJ_2006', 'KBA13_BJ_2008', 'KBA13_BJ_2009',\n",
       "       'KBA13_BMW', 'KBA13_CCM_0_1400', 'KBA13_CCM_1000',\n",
       "       'KBA13_CCM_1200', 'KBA13_CCM_1400', 'KBA13_CCM_1500',\n",
       "       'KBA13_CCM_1600', 'KBA13_CCM_1800', 'KBA13_CCM_2000',\n",
       "       'KBA13_CCM_2500', 'KBA13_CCM_2501', 'KBA13_FAB_ASIEN',\n",
       "       'KBA13_FAB_SONSTIGE', 'KBA13_FIAT', 'KBA13_FORD',\n",
       "       'KBA13_HALTER_20', 'KBA13_HALTER_25', 'KBA13_HALTER_30',\n",
       "       'KBA13_HALTER_35', 'KBA13_HALTER_40', 'KBA13_HALTER_45',\n",
       "       'KBA13_HALTER_50', 'KBA13_HALTER_55', 'KBA13_HALTER_60',\n",
       "       'KBA13_HALTER_65', 'KBA13_HALTER_66', 'KBA13_HERST_ASIEN',\n",
       "       'KBA13_HERST_AUDI_VW', 'KBA13_HERST_BMW_BENZ',\n",
       "       'KBA13_HERST_EUROPA', 'KBA13_HERST_FORD_OPEL', 'KBA13_HERST_SONST',\n",
       "       'KBA13_KMH_0_140', 'KBA13_KMH_110', 'KBA13_KMH_140',\n",
       "       'KBA13_KMH_140_210', 'KBA13_KMH_180', 'KBA13_KMH_211',\n",
       "       'KBA13_KMH_250', 'KBA13_KMH_251', 'KBA13_KRSAQUOT',\n",
       "       'KBA13_KRSHERST_AUDI_VW', 'KBA13_KRSHERST_BMW_BENZ',\n",
       "       'KBA13_KRSHERST_FORD_OPEL', 'KBA13_KRSSEG_KLEIN',\n",
       "       'KBA13_KRSSEG_OBER', 'KBA13_KRSSEG_VAN', 'KBA13_KRSZUL_NEU',\n",
       "       'KBA13_KW_0_60', 'KBA13_KW_110', 'KBA13_KW_120', 'KBA13_KW_121',\n",
       "       'KBA13_KW_30', 'KBA13_KW_40', 'KBA13_KW_50', 'KBA13_KW_60',\n",
       "       'KBA13_KW_61_120', 'KBA13_KW_70', 'KBA13_KW_80', 'KBA13_KW_90',\n",
       "       'KBA13_MAZDA', 'KBA13_MERCEDES', 'KBA13_MOTOR', 'KBA13_NISSAN',\n",
       "       'KBA13_OPEL', 'KBA13_PEUGEOT', 'KBA13_RENAULT',\n",
       "       'KBA13_SEG_GELAENDEWAGEN', 'KBA13_SEG_GROSSRAUMVANS',\n",
       "       'KBA13_SEG_KLEINST', 'KBA13_SEG_KLEINWAGEN',\n",
       "       'KBA13_SEG_KOMPAKTKLASSE', 'KBA13_SEG_MINIVANS',\n",
       "       'KBA13_SEG_MINIWAGEN', 'KBA13_SEG_MITTELKLASSE',\n",
       "       'KBA13_SEG_OBEREMITTELKLASSE', 'KBA13_SEG_OBERKLASSE',\n",
       "       'KBA13_SEG_SONSTIGE', 'KBA13_SEG_SPORTWAGEN',\n",
       "       'KBA13_SEG_UTILITIES', 'KBA13_SEG_VAN', 'KBA13_SEG_WOHNMOBILE',\n",
       "       'KBA13_SITZE_4', 'KBA13_SITZE_5', 'KBA13_SITZE_6', 'KBA13_TOYOTA',\n",
       "       'KBA13_VORB_0', 'KBA13_VORB_1', 'KBA13_VORB_1_2', 'KBA13_VORB_2',\n",
       "       'KBA13_VORB_3', 'KBA13_VW', 'KKK', 'KONSUMNAEHE',\n",
       "       'LP_FAMILIE_FEIN', 'LP_FAMILIE_GROB', 'LP_LEBENSPHASE_FEIN',\n",
       "       'LP_LEBENSPHASE_GROB', 'LP_STATUS_FEIN', 'LP_STATUS_GROB',\n",
       "       'MIN_GEBAEUDEJAHR', 'MOBI_REGIO', 'NATIONALITAET_KZ',\n",
       "       'ONLINE_AFFINITAET', 'ORTSGR_KLS9', 'OST_WEST_KZ', 'PLZ8_ANTG1',\n",
       "       'PLZ8_ANTG2', 'PLZ8_ANTG3', 'PLZ8_ANTG4', 'PLZ8_BAUMAX',\n",
       "       'PLZ8_GBZ', 'PLZ8_HHZ', 'PRAEGENDE_JUGENDJAHRE', 'REGIOTYP',\n",
       "       'RELAT_AB', 'RETOURTYP_BK_S', 'SEMIO_DOM', 'SEMIO_ERL',\n",
       "       'SEMIO_FAM', 'SEMIO_KAEM', 'SEMIO_KRIT', 'SEMIO_KULT',\n",
       "       'SEMIO_LUST', 'SEMIO_MAT', 'SEMIO_PFLICHT', 'SEMIO_RAT',\n",
       "       'SEMIO_REL', 'SEMIO_SOZ', 'SEMIO_TRADV', 'SEMIO_VERT',\n",
       "       'SHOPPER_TYP', 'VERS_TYP', 'W_KEIT_KIND_HH', 'WOHNDAUER_2008',\n",
       "       'WOHNLAGE', 'ZABEOTYP', 'ANREDE_KZ', 'ALTERSKATEGORIE_GROB'],\n",
       "      dtype=object)"
      ]
     },
     "execution_count": 41,
     "metadata": {},
     "output_type": "execute_result"
    }
   ],
   "source": [
    "customers.columns.values"
   ]
  },
  {
   "cell_type": "code",
   "execution_count": null,
   "metadata": {},
   "outputs": [],
   "source": []
  },
  {
   "cell_type": "markdown",
   "metadata": {},
   "source": [
    "## EDA Training Set\n",
    "\n"
   ]
  },
  {
   "cell_type": "code",
   "execution_count": 35,
   "metadata": {},
   "outputs": [
    {
     "name": "stderr",
     "output_type": "stream",
     "text": [
      "C:\\Users\\Jose Yanez\\Anaconda3\\lib\\site-packages\\IPython\\core\\interactiveshell.py:3058: DtypeWarning: Columns (18,19) have mixed types. Specify dtype option on import or set low_memory=False.\n",
      "  interactivity=interactivity, compiler=compiler, result=result)\n"
     ]
    }
   ],
   "source": [
    "train = pd.read_csv('Udacity_MAILOUT_052018_TRAIN.csv', sep=';')\n"
   ]
  },
  {
   "cell_type": "code",
   "execution_count": 36,
   "metadata": {},
   "outputs": [
    {
     "name": "stdout",
     "output_type": "stream",
     "text": [
      "(42962, 367)\n",
      "Index(['LNR', 'AGER_TYP', 'AKT_DAT_KL', 'ALTER_HH', 'ALTER_KIND1',\n",
      "       'ALTER_KIND2', 'ALTER_KIND3', 'ALTER_KIND4', 'ALTERSKATEGORIE_FEIN',\n",
      "       'ANZ_HAUSHALTE_AKTIV',\n",
      "       ...\n",
      "       'VK_DHT4A', 'VK_DISTANZ', 'VK_ZG11', 'W_KEIT_KIND_HH', 'WOHNDAUER_2008',\n",
      "       'WOHNLAGE', 'ZABEOTYP', 'RESPONSE', 'ANREDE_KZ',\n",
      "       'ALTERSKATEGORIE_GROB'],\n",
      "      dtype='object', length=367)\n"
     ]
    },
    {
     "data": {
      "text/html": [
       "<div>\n",
       "<style scoped>\n",
       "    .dataframe tbody tr th:only-of-type {\n",
       "        vertical-align: middle;\n",
       "    }\n",
       "\n",
       "    .dataframe tbody tr th {\n",
       "        vertical-align: top;\n",
       "    }\n",
       "\n",
       "    .dataframe thead th {\n",
       "        text-align: right;\n",
       "    }\n",
       "</style>\n",
       "<table border=\"1\" class=\"dataframe\">\n",
       "  <thead>\n",
       "    <tr style=\"text-align: right;\">\n",
       "      <th></th>\n",
       "      <th>LNR</th>\n",
       "      <th>AGER_TYP</th>\n",
       "      <th>AKT_DAT_KL</th>\n",
       "      <th>ALTER_HH</th>\n",
       "      <th>ALTER_KIND1</th>\n",
       "      <th>ALTER_KIND2</th>\n",
       "      <th>ALTER_KIND3</th>\n",
       "      <th>ALTER_KIND4</th>\n",
       "      <th>ALTERSKATEGORIE_FEIN</th>\n",
       "      <th>ANZ_HAUSHALTE_AKTIV</th>\n",
       "      <th>...</th>\n",
       "      <th>VK_DHT4A</th>\n",
       "      <th>VK_DISTANZ</th>\n",
       "      <th>VK_ZG11</th>\n",
       "      <th>W_KEIT_KIND_HH</th>\n",
       "      <th>WOHNDAUER_2008</th>\n",
       "      <th>WOHNLAGE</th>\n",
       "      <th>ZABEOTYP</th>\n",
       "      <th>RESPONSE</th>\n",
       "      <th>ANREDE_KZ</th>\n",
       "      <th>ALTERSKATEGORIE_GROB</th>\n",
       "    </tr>\n",
       "  </thead>\n",
       "  <tbody>\n",
       "    <tr>\n",
       "      <td>0</td>\n",
       "      <td>1763</td>\n",
       "      <td>2</td>\n",
       "      <td>1.0</td>\n",
       "      <td>8.0</td>\n",
       "      <td>NaN</td>\n",
       "      <td>NaN</td>\n",
       "      <td>NaN</td>\n",
       "      <td>NaN</td>\n",
       "      <td>8.0</td>\n",
       "      <td>15.0</td>\n",
       "      <td>...</td>\n",
       "      <td>5.0</td>\n",
       "      <td>2.0</td>\n",
       "      <td>1.0</td>\n",
       "      <td>6.0</td>\n",
       "      <td>9.0</td>\n",
       "      <td>3.0</td>\n",
       "      <td>3</td>\n",
       "      <td>0</td>\n",
       "      <td>2</td>\n",
       "      <td>4</td>\n",
       "    </tr>\n",
       "    <tr>\n",
       "      <td>1</td>\n",
       "      <td>1771</td>\n",
       "      <td>1</td>\n",
       "      <td>4.0</td>\n",
       "      <td>13.0</td>\n",
       "      <td>NaN</td>\n",
       "      <td>NaN</td>\n",
       "      <td>NaN</td>\n",
       "      <td>NaN</td>\n",
       "      <td>13.0</td>\n",
       "      <td>1.0</td>\n",
       "      <td>...</td>\n",
       "      <td>1.0</td>\n",
       "      <td>2.0</td>\n",
       "      <td>1.0</td>\n",
       "      <td>4.0</td>\n",
       "      <td>9.0</td>\n",
       "      <td>7.0</td>\n",
       "      <td>1</td>\n",
       "      <td>0</td>\n",
       "      <td>2</td>\n",
       "      <td>3</td>\n",
       "    </tr>\n",
       "    <tr>\n",
       "      <td>2</td>\n",
       "      <td>1776</td>\n",
       "      <td>1</td>\n",
       "      <td>1.0</td>\n",
       "      <td>9.0</td>\n",
       "      <td>NaN</td>\n",
       "      <td>NaN</td>\n",
       "      <td>NaN</td>\n",
       "      <td>NaN</td>\n",
       "      <td>7.0</td>\n",
       "      <td>0.0</td>\n",
       "      <td>...</td>\n",
       "      <td>6.0</td>\n",
       "      <td>4.0</td>\n",
       "      <td>2.0</td>\n",
       "      <td>NaN</td>\n",
       "      <td>9.0</td>\n",
       "      <td>2.0</td>\n",
       "      <td>3</td>\n",
       "      <td>0</td>\n",
       "      <td>1</td>\n",
       "      <td>4</td>\n",
       "    </tr>\n",
       "    <tr>\n",
       "      <td>3</td>\n",
       "      <td>1460</td>\n",
       "      <td>2</td>\n",
       "      <td>1.0</td>\n",
       "      <td>6.0</td>\n",
       "      <td>NaN</td>\n",
       "      <td>NaN</td>\n",
       "      <td>NaN</td>\n",
       "      <td>NaN</td>\n",
       "      <td>6.0</td>\n",
       "      <td>4.0</td>\n",
       "      <td>...</td>\n",
       "      <td>8.0</td>\n",
       "      <td>11.0</td>\n",
       "      <td>11.0</td>\n",
       "      <td>6.0</td>\n",
       "      <td>9.0</td>\n",
       "      <td>1.0</td>\n",
       "      <td>3</td>\n",
       "      <td>0</td>\n",
       "      <td>2</td>\n",
       "      <td>4</td>\n",
       "    </tr>\n",
       "    <tr>\n",
       "      <td>4</td>\n",
       "      <td>1783</td>\n",
       "      <td>2</td>\n",
       "      <td>1.0</td>\n",
       "      <td>9.0</td>\n",
       "      <td>NaN</td>\n",
       "      <td>NaN</td>\n",
       "      <td>NaN</td>\n",
       "      <td>NaN</td>\n",
       "      <td>9.0</td>\n",
       "      <td>53.0</td>\n",
       "      <td>...</td>\n",
       "      <td>2.0</td>\n",
       "      <td>2.0</td>\n",
       "      <td>1.0</td>\n",
       "      <td>6.0</td>\n",
       "      <td>9.0</td>\n",
       "      <td>3.0</td>\n",
       "      <td>3</td>\n",
       "      <td>0</td>\n",
       "      <td>1</td>\n",
       "      <td>3</td>\n",
       "    </tr>\n",
       "  </tbody>\n",
       "</table>\n",
       "<p>5 rows × 367 columns</p>\n",
       "</div>"
      ],
      "text/plain": [
       "    LNR  AGER_TYP  AKT_DAT_KL  ALTER_HH  ALTER_KIND1  ALTER_KIND2  \\\n",
       "0  1763         2         1.0       8.0          NaN          NaN   \n",
       "1  1771         1         4.0      13.0          NaN          NaN   \n",
       "2  1776         1         1.0       9.0          NaN          NaN   \n",
       "3  1460         2         1.0       6.0          NaN          NaN   \n",
       "4  1783         2         1.0       9.0          NaN          NaN   \n",
       "\n",
       "   ALTER_KIND3  ALTER_KIND4  ALTERSKATEGORIE_FEIN  ANZ_HAUSHALTE_AKTIV  ...  \\\n",
       "0          NaN          NaN                   8.0                 15.0  ...   \n",
       "1          NaN          NaN                  13.0                  1.0  ...   \n",
       "2          NaN          NaN                   7.0                  0.0  ...   \n",
       "3          NaN          NaN                   6.0                  4.0  ...   \n",
       "4          NaN          NaN                   9.0                 53.0  ...   \n",
       "\n",
       "   VK_DHT4A  VK_DISTANZ  VK_ZG11  W_KEIT_KIND_HH  WOHNDAUER_2008  WOHNLAGE  \\\n",
       "0       5.0         2.0      1.0             6.0             9.0       3.0   \n",
       "1       1.0         2.0      1.0             4.0             9.0       7.0   \n",
       "2       6.0         4.0      2.0             NaN             9.0       2.0   \n",
       "3       8.0        11.0     11.0             6.0             9.0       1.0   \n",
       "4       2.0         2.0      1.0             6.0             9.0       3.0   \n",
       "\n",
       "   ZABEOTYP RESPONSE ANREDE_KZ ALTERSKATEGORIE_GROB  \n",
       "0         3        0         2                    4  \n",
       "1         1        0         2                    3  \n",
       "2         3        0         1                    4  \n",
       "3         3        0         2                    4  \n",
       "4         3        0         1                    3  \n",
       "\n",
       "[5 rows x 367 columns]"
      ]
     },
     "execution_count": 36,
     "metadata": {},
     "output_type": "execute_result"
    }
   ],
   "source": [
    "print(train.shape)\n",
    "print(train.columns)\n",
    "train.head()\n"
   ]
  },
  {
   "cell_type": "code",
   "execution_count": 37,
   "metadata": {},
   "outputs": [
    {
     "data": {
      "image/png": "[encoded data removed]",
      "text/plain": [
       "<Figure size 432x288 with 1 Axes>"
      ]
     },
     "metadata": {
      "needs_background": "light"
     },
     "output_type": "display_data"
    }
   ],
   "source": [
    "sns.countplot(x=\"ANREDE_KZ\", hue=\"RESPONSE\", data=train);\n",
    "sns.countplot(x=\"LP_STATUS_FEIN\", hue=\"RESPONSE\", data=train);\n",
    "\n"
   ]
  },
  {
   "cell_type": "markdown",
   "metadata": {},
   "source": [
    "## Part 1: Customer Segmentation Report\n",
    "\n",
    "The main bulk of your analysis will come in this part of the project. Here, you should use unsupervised learning techniques to describe the relationship between the demographics of the company's existing customers and the general population of Germany. By the end of this part, you should be able to describe parts of the general population that are more likely to be part of the mail-order company's main customer base, and which parts of the general population are less so."
   ]
  },
  {
   "cell_type": "code",
   "execution_count": null,
   "metadata": {},
   "outputs": [],
   "source": []
  },
  {
   "cell_type": "markdown",
   "metadata": {},
   "source": [
    "## Part 2: Supervised Learning Model\n",
    "\n",
    "Now that you've found which parts of the population are more likely to be customers of the mail-order company, it's time to build a prediction model. Each of the rows in the \"MAILOUT\" data files represents an individual that was targeted for a mailout campaign. Ideally, we should be able to use the demographic information from each individual to decide whether or not it will be worth it to include that person in the campaign.\n",
    "\n",
    "The \"MAILOUT\" data has been split into two approximately equal parts, each with almost 43 000 data rows. In this part, you can verify your model with the \"TRAIN\" partition, which includes a column, \"RESPONSE\", that states whether or not a person became a customer of the company following the campaign. In the next part, you'll need to create predictions on the \"TEST\" partition, where the \"RESPONSE\" column has been withheld."
   ]
  },
  {
   "cell_type": "code",
   "execution_count": null,
   "metadata": {},
   "outputs": [],
   "source": [
    "mailout_train = pd.read_csv('../../data/Term2/capstone/arvato_data/Udacity_MAILOUT_052018_TRAIN.csv', sep=';')"
   ]
  },
  {
   "cell_type": "code",
   "execution_count": null,
   "metadata": {},
   "outputs": [],
   "source": []
  },
  {
   "cell_type": "markdown",
   "metadata": {},
   "source": [
    "## Part 3: Kaggle Competition\n",
    "\n",
    "Now that you've created a model to predict which individuals are most likely to respond to a mailout campaign, it's time to test that model in competition through Kaggle. If you click on the link [here](http://www.kaggle.com/t/21e6d45d4c574c7fa2d868f0e8c83140), you'll be taken to the competition page where, if you have a Kaggle account, you can enter.\n",
    "\n",
    "Your entry to the competition should be a CSV file with two columns. The first column should be a copy of \"LNR\", which acts as an ID number for each individual in the \"TEST\" partition. The second column, \"RESPONSE\", should be some measure of how likely each individual became a customer – this might not be a straightforward probability. As you should have found in Part 2, there is a large output class imbalance, where most individuals did not respond to the mailout. Thus, predicting individual classes and using accuracy does not seem to be an appropriate performance evaluation method. Instead, the competition will be using AUC to evaluate performance. The exact values of the \"RESPONSE\" column do not matter as much: only that the higher values try to capture as many of the actual customers as possible, early in the ROC curve sweep."
   ]
  },
  {
   "cell_type": "code",
   "execution_count": null,
   "metadata": {},
   "outputs": [],
   "source": [
    "mailout_test = pd.read_csv('../../data/Term2/capstone/arvato_data/Udacity_MAILOUT_052018_TEST.csv', sep=';')"
   ]
  },
  {
   "cell_type": "code",
   "execution_count": null,
   "metadata": {},
   "outputs": [],
   "source": []
  }
 ],
 "metadata": {
  "kernelspec": {
   "display_name": "Python 3",
   "language": "python",
   "name": "python3"
  },
  "language_info": {
   "codemirror_mode": {
    "name": "ipython",
    "version": 3
   },
   "file_extension": ".py",
   "mimetype": "text/x-python",
   "name": "python",
   "nbconvert_exporter": "python",
   "pygments_lexer": "ipython3",
   "version": "3.7.4"
  }
 },
 "nbformat": 4,
 "nbformat_minor": 2
}
